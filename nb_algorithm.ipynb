{
  "nbformat": 4,
  "nbformat_minor": 0,
  "metadata": {
    "colab": {
      "name": "nb_algorithm.ipynb",
      "provenance": [],
      "authorship_tag": "ABX9TyOZAw54bQ1sqFn+T2wAv0Uk",
      "include_colab_link": true
    },
    "kernelspec": {
      "name": "python3",
      "display_name": "Python 3"
    }
  },
  "cells": [
    {
      "cell_type": "markdown",
      "metadata": {
        "id": "view-in-github",
        "colab_type": "text"
      },
      "source": [
        "<a href=\"https://colab.research.google.com/github/dal7collab/google_collab_py/blob/main/nb_algorithm.ipynb\" target=\"_parent\"><img src=\"https://colab.research.google.com/assets/colab-badge.svg\" alt=\"Open In Colab\"/></a>"
      ]
    },
    {
      "cell_type": "code",
      "metadata": {
        "id": "E3AGH_xKnxau"
      },
      "source": [
        "import pandas as pd"
      ],
      "execution_count": null,
      "outputs": []
    },
    {
      "cell_type": "code",
      "metadata": {
        "id": "Zkgt6GtflQd4"
      },
      "source": [
        "train = [('sunny','hot','high','FALSE','N'),\r\n",
        "        ('sunny','hot','high','TRUE','N'),\r\n",
        "        ('overcast','hot','high','FALSE','P'),\r\n",
        "        ('rain','mild','high','FALSE','P'),\r\n",
        "        ('rain','cool','normal','FALSE','P'),\r\n",
        "        ('rain','cool','normal','TRUE','N'),\r\n",
        "        ('overcast','cool','normal','TRUE','P'),\r\n",
        "        ('sunny','mild','high','FALSE','N'),\r\n",
        "        ('sunny','cool','normal','FALSE','P'),\r\n",
        "        ('rain','mild','normal','FALSE','P'),\r\n",
        "        ('sunny','mild','normal','TRUE','P'),\r\n",
        "        ('overcast','mild','high','TRUE','P'),\r\n",
        "        ('overcast','hot','normal','FALSE','P'),\r\n",
        "        ('rain','mild','high','TRUE','N')]\r\n",
        "        \r\n",
        "train = pd.DataFrame(train, columns = ['Outlook','Temperature','Humidity','Windy','Class']) "
      ],
      "execution_count": null,
      "outputs": []
    },
    {
      "cell_type": "code",
      "metadata": {
        "id": "oLfPmQA1pHxV"
      },
      "source": [
        "target = 'Class'\r\n",
        "train_x = train.drop(columns = [target])\r\n",
        "train_y = train[target]"
      ],
      "execution_count": null,
      "outputs": []
    },
    {
      "cell_type": "code",
      "metadata": {
        "id": "knzL_oJ9qfqn"
      },
      "source": [
        "test = [('rain', 'hot', 'high', 'FALSE')]\r\n",
        "test = pd.DataFrame(test, columns = ['Outlook','Temperature','Humidity','Windy']) "
      ],
      "execution_count": null,
      "outputs": []
    },
    {
      "cell_type": "code",
      "metadata": {
        "id": "_e7FGShrzPkI",
        "colab": {
          "base_uri": "https://localhost:8080/"
        },
        "outputId": "b7547b69-c58c-4485-f303-cd9079b71aac"
      },
      "source": [
        "outlook = train.groupby(['Outlook', 'Class']).size()\r\n",
        "outlook"
      ],
      "execution_count": null,
      "outputs": [
        {
          "output_type": "execute_result",
          "data": {
            "text/plain": [
              "Outlook   Class\n",
              "overcast  P        4\n",
              "rain      N        2\n",
              "          P        3\n",
              "sunny     N        3\n",
              "          P        2\n",
              "dtype: int64"
            ]
          },
          "metadata": {
            "tags": []
          },
          "execution_count": 5
        }
      ]
    },
    {
      "cell_type": "code",
      "metadata": {
        "id": "RN2-RYVx1R4V",
        "colab": {
          "base_uri": "https://localhost:8080/"
        },
        "outputId": "84b426ce-afc6-4cdd-fe43-43b3938f4c3e"
      },
      "source": [
        "outlook = pd.crosstab(train['Outlook'], train['Class'], margins = True)\r\n",
        "c = outlook.loc['sunny', 'N']\r\n",
        "'--------------------------------------------------------------------'\r\n",
        "x = train[train['Class'] == 'N']\r\n",
        "y = x[x['Outlook'] == 'sunny']\r\n",
        "print('P(sunny|N) = ' + str(y.shape[0]) + \"/\" + str(x.shape[0]))"
      ],
      "execution_count": null,
      "outputs": [
        {
          "output_type": "stream",
          "text": [
            "P(sunny|N) = 3/5\n"
          ],
          "name": "stdout"
        }
      ]
    },
    {
      "cell_type": "code",
      "metadata": {
        "id": "tBIJOfTL_QAo"
      },
      "source": [
        "def P1(target, target_value, train = train):\r\n",
        "  target_rows = train[train[target] == target_value]\r\n",
        "\r\n",
        "  n           = target_rows.shape[0]\r\n",
        "  d           = train.shape[0]\r\n",
        "\r\n",
        "  p_val =  round(n / d, 4)\r\n",
        "  print('P(' + target_value + ') = ' + str(n) + \"/\" + str(d) + ' = ' + str(p_val))\r\n",
        "  return p_val\r\n",
        "\r\n",
        "def P(column, column_value, target, target_value, train = train, laplace = 0.01):\r\n",
        "  target_rows = train[train[target] == target_value]\r\n",
        "  column_rows = target_rows[target_rows[column] == column_value]\r\n",
        "\r\n",
        "  n           = column_rows.shape[0]\r\n",
        "  d           = target_rows.shape[0]\r\n",
        "\r\n",
        "  'Laplace correction'\r\n",
        "  if d == 0 :\r\n",
        "     n = n + laplace\r\n",
        "     d = laplace\r\n",
        "\r\n",
        "  p_val =  round(n / d, 4)\r\n",
        "  print('P(' + column_value + '|' + target_value + ') = ' + str(n) + \"/\" + str(d) + ' = ' + str(p_val))\r\n",
        "\r\n",
        "  return p_val"
      ],
      "execution_count": null,
      "outputs": []
    },
    {
      "cell_type": "code",
      "metadata": {
        "id": "bsxeKHgBAxNm",
        "colab": {
          "base_uri": "https://localhost:8080/"
        },
        "outputId": "ca899ee9-b50a-4ef7-c0da-0fb976a065b3"
      },
      "source": [
        "p = P('Outlook', 'sunny', 'Class', 'N')"
      ],
      "execution_count": null,
      "outputs": [
        {
          "output_type": "stream",
          "text": [
            "P(sunny|N) = 3/5 = 0.6\n"
          ],
          "name": "stdout"
        }
      ]
    },
    {
      "cell_type": "code",
      "metadata": {
        "id": "y3ObzFoLEODD",
        "colab": {
          "base_uri": "https://localhost:8080/"
        },
        "outputId": "3e248e04-c1a0-4cae-ac07-faf2003b159e"
      },
      "source": [
        "p1 = P('Outlook',     'rain',  'Class', 'P') * \\\r\n",
        "     P('Temperature', 'hot',   'Class', 'P') * \\\r\n",
        "     P('Humidity',    'high',  'Class', 'P') * \\\r\n",
        "     P('Windy',       'FALSE', 'Class', 'P') * \\\r\n",
        "     P1('Class', 'P')\r\n",
        "print(p1)\r\n",
        "print('-'*50)\r\n",
        "p1 =      P('Outlook',     'rain',  'Class', 'N') \r\n",
        "p1 = p1 * P('Temperature', 'hot',   'Class', 'N') \r\n",
        "p1 = p1 * P('Humidity',    'high',  'Class', 'N') \r\n",
        "p1 = p1 * P('Windy',       'FALSE', 'Class', 'N') \r\n",
        "p1 = p1 * P1('Class', 'N')\r\n",
        "print(p1)"
      ],
      "execution_count": null,
      "outputs": [
        {
          "output_type": "stream",
          "text": [
            "P(rain|P) = 3/9 = 0.3333\n",
            "P(hot|P) = 2/9 = 0.2222\n",
            "P(high|P) = 3/9 = 0.3333\n",
            "P(FALSE|P) = 6/9 = 0.6667\n",
            "P(P) = 9/14 = 0.6429\n",
            "0.0105800705291164\n",
            "--------------------------------------------------\n",
            "P(rain|N) = 2/5 = 0.4\n",
            "P(hot|N) = 2/5 = 0.4\n",
            "P(high|N) = 4/5 = 0.8\n",
            "P(FALSE|N) = 2/5 = 0.4\n",
            "P(N) = 5/14 = 0.3571\n",
            "0.018283520000000004\n"
          ],
          "name": "stdout"
        }
      ]
    },
    {
      "cell_type": "code",
      "metadata": {
        "id": "CTNK_zAj8JyV"
      },
      "source": [
        "from sklearn.preprocessing import LabelEncoder\r\n",
        "\r\n",
        "def validate(data, column):\r\n",
        "  res = False\r\n",
        "  if (data[column].dtype == 'object')  or \\\r\n",
        "     (data[column].dtype == 'category'):\r\n",
        "     res = True\r\n",
        "  return res\r\n",
        "\r\n",
        "def fit_label_encoder(data):\r\n",
        "  le = {col: LabelEncoder() for col in data.columns}\r\n",
        "  ld = {}\r\n",
        "  for col in data.columns:\r\n",
        "    if validate(data, col):\r\n",
        "      le[col].fit(data[col])\r\n",
        "      ld[col] = dict(zip(le[col].classes_, le[col].transform(le[col].classes_)))\r\n",
        "  return le, ld\r\n",
        "\r\n",
        "def transform_label_encoder(data, label_encoder):\r\n",
        "  data_e = data.copy(deep = True)\r\n",
        "  for col in data.columns:\r\n",
        "    if validate(data, col):\r\n",
        "      data_e[col] = label_encoder[col].transform(data[col])  \r\n",
        "  return data_e \r\n",
        "\r\n",
        "def fit_transform_label_encoder(data):\r\n",
        "  le, ld = fit_label_encoder(data)\r\n",
        "  data_e = transform_label_encoder(data, le)\r\n",
        "  return le, ld, data_e\r\n",
        "\r\n",
        "def info_label_encoder(data, label_decoder):\r\n",
        "  for col in data.columns:\r\n",
        "    if validate(data, col):\r\n",
        "      print(col + ':' + str(label_decoder[col]))"
      ],
      "execution_count": null,
      "outputs": []
    },
    {
      "cell_type": "code",
      "metadata": {
        "id": "5PiSnZR2ri16",
        "colab": {
          "base_uri": "https://localhost:8080/"
        },
        "outputId": "b12ffd43-771d-4c4c-aaac-da7c72fa5e20"
      },
      "source": [
        "le, ld, train_e = fit_transform_label_encoder(train)\r\n",
        "info_label_encoder(train, ld)\r\n",
        "\r\n",
        "test_e = transform_label_encoder(test, le)\r\n",
        "\r\n",
        "print('-' * 50) \r\n",
        "print(train_e)\r\n",
        "print('-' * 50)\r\n",
        "print(test)\r\n",
        "print('-' * 50)\r\n",
        "print(test_e)"
      ],
      "execution_count": null,
      "outputs": [
        {
          "output_type": "stream",
          "text": [
            "Outlook:{'overcast': 0, 'rain': 1, 'sunny': 2}\n",
            "Temperature:{'cool': 0, 'hot': 1, 'mild': 2}\n",
            "Humidity:{'high': 0, 'normal': 1}\n",
            "Windy:{'FALSE': 0, 'TRUE': 1}\n",
            "Class:{'N': 0, 'P': 1}\n",
            "--------------------------------------------------\n",
            "    Outlook  Temperature  Humidity  Windy  Class\n",
            "0         2            1         0      0      0\n",
            "1         2            1         0      1      0\n",
            "2         0            1         0      0      1\n",
            "3         1            2         0      0      1\n",
            "4         1            0         1      0      1\n",
            "5         1            0         1      1      0\n",
            "6         0            0         1      1      1\n",
            "7         2            2         0      0      0\n",
            "8         2            0         1      0      1\n",
            "9         1            2         1      0      1\n",
            "10        2            2         1      1      1\n",
            "11        0            2         0      1      1\n",
            "12        0            1         1      0      1\n",
            "13        1            2         0      1      0\n",
            "--------------------------------------------------\n",
            "  Outlook Temperature Humidity  Windy\n",
            "0    rain         hot     high  FALSE\n",
            "--------------------------------------------------\n",
            "   Outlook  Temperature  Humidity  Windy\n",
            "0        1            1         0      0\n"
          ],
          "name": "stdout"
        }
      ]
    },
    {
      "cell_type": "code",
      "metadata": {
        "colab": {
          "base_uri": "https://localhost:8080/"
        },
        "id": "75nF8PmNyY6_",
        "outputId": "0d8c2243-9b11-415e-8cc8-9498a57ee503"
      },
      "source": [
        "from sklearn.naive_bayes import CategoricalNB\r\n",
        "clf = CategoricalNB()\r\n",
        "target = 'Class'\r\n",
        "train_e_x = train_e.drop(columns = [target])\r\n",
        "train_e_y = train_e[target]\r\n",
        "clf.fit(train_e_x, train_e_y)\r\n",
        "clf"
      ],
      "execution_count": null,
      "outputs": [
        {
          "output_type": "execute_result",
          "data": {
            "text/plain": [
              "CategoricalNB(alpha=1.0, class_prior=None, fit_prior=True)"
            ]
          },
          "metadata": {
            "tags": []
          },
          "execution_count": 12
        }
      ]
    },
    {
      "cell_type": "code",
      "metadata": {
        "colab": {
          "base_uri": "https://localhost:8080/"
        },
        "id": "s5gmaE-Y5A9f",
        "outputId": "664e2e90-b614-4190-8530-cbb7bb32d413"
      },
      "source": [
        "print(clf.predict(test_e))\r\n",
        "print(clf.predict_proba(test_e))"
      ],
      "execution_count": null,
      "outputs": [
        {
          "output_type": "stream",
          "text": [
            "[0]\n",
            "[[0.55361246 0.44638754]]\n"
          ],
          "name": "stdout"
        }
      ]
    },
    {
      "cell_type": "code",
      "metadata": {
        "id": "gqJsyC-i5Auq"
      },
      "source": [
        "def one_hot_encoder(train, test = None, target = None, drop = True):\r\n",
        "  hc     = '_Train_'\r\n",
        "  data_e = train.copy(deep = True)\r\n",
        "  data_e[hc] = True\r\n",
        "\r\n",
        "  if test is not None:\r\n",
        "    test_e = test.copy(deep = True)\r\n",
        "    test_e[target] = None\r\n",
        "    test_e[hc]     = False\r\n",
        "    data_e = data_e.merge(test_e, how = 'outer')\r\n",
        "\r\n",
        "  columns = []\r\n",
        "  for col in train.columns:\r\n",
        "    if (col != target) and (col != hc):\r\n",
        "      if (train[col].dtype == 'object')  or \\\r\n",
        "         (train[col].dtype == 'category'):\r\n",
        "        columns.append(col)\r\n",
        "        temp_e = pd.get_dummies(data_e[col], prefix = col)\r\n",
        "        data_e = pd.concat([data_e, temp_e], axis = 1)\r\n",
        "\r\n",
        "  if drop == True:\r\n",
        "    data_e = data_e.drop(columns, axis = 1)\r\n",
        "    \r\n",
        "  if test is not  None:\r\n",
        "    train_e = data_e[data_e[hc] == True]\r\n",
        "    test_e  = data_e[data_e[hc] == False]\r\n",
        "    test_e  = test_e.drop([hc, target], axis = 1)\r\n",
        "  else:\r\n",
        "    train_e = data_e\r\n",
        "    test_e  = None\r\n",
        "\r\n",
        "  train_e  = train_e.drop(hc, axis = 1)\r\n",
        "  return train_e, test_e "
      ],
      "execution_count": null,
      "outputs": []
    },
    {
      "cell_type": "code",
      "metadata": {
        "colab": {
          "base_uri": "https://localhost:8080/"
        },
        "id": "IqWwB5wY95-A",
        "outputId": "c501dd0d-61a0-4298-baa8-fe4362009175"
      },
      "source": [
        "train_e, test_e = one_hot_encoder(train, test, target = 'Class', drop = True)\r\n",
        "\r\n",
        "print(train_e.info())\r\n",
        "print(test_e.info())"
      ],
      "execution_count": null,
      "outputs": [
        {
          "output_type": "stream",
          "text": [
            "<class 'pandas.core.frame.DataFrame'>\n",
            "Int64Index: 14 entries, 0 to 13\n",
            "Data columns (total 11 columns):\n",
            " #   Column            Non-Null Count  Dtype \n",
            "---  ------            --------------  ----- \n",
            " 0   Class             14 non-null     object\n",
            " 1   Outlook_overcast  14 non-null     uint8 \n",
            " 2   Outlook_rain      14 non-null     uint8 \n",
            " 3   Outlook_sunny     14 non-null     uint8 \n",
            " 4   Temperature_cool  14 non-null     uint8 \n",
            " 5   Temperature_hot   14 non-null     uint8 \n",
            " 6   Temperature_mild  14 non-null     uint8 \n",
            " 7   Humidity_high     14 non-null     uint8 \n",
            " 8   Humidity_normal   14 non-null     uint8 \n",
            " 9   Windy_FALSE       14 non-null     uint8 \n",
            " 10  Windy_TRUE        14 non-null     uint8 \n",
            "dtypes: object(1), uint8(10)\n",
            "memory usage: 364.0+ bytes\n",
            "None\n",
            "<class 'pandas.core.frame.DataFrame'>\n",
            "Int64Index: 1 entries, 14 to 14\n",
            "Data columns (total 10 columns):\n",
            " #   Column            Non-Null Count  Dtype\n",
            "---  ------            --------------  -----\n",
            " 0   Outlook_overcast  1 non-null      uint8\n",
            " 1   Outlook_rain      1 non-null      uint8\n",
            " 2   Outlook_sunny     1 non-null      uint8\n",
            " 3   Temperature_cool  1 non-null      uint8\n",
            " 4   Temperature_hot   1 non-null      uint8\n",
            " 5   Temperature_mild  1 non-null      uint8\n",
            " 6   Humidity_high     1 non-null      uint8\n",
            " 7   Humidity_normal   1 non-null      uint8\n",
            " 8   Windy_FALSE       1 non-null      uint8\n",
            " 9   Windy_TRUE        1 non-null      uint8\n",
            "dtypes: uint8(10)\n",
            "memory usage: 18.0 bytes\n",
            "None\n"
          ],
          "name": "stdout"
        }
      ]
    }
  ]
}