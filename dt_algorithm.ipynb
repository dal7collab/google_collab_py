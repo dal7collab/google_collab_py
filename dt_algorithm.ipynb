{
  "nbformat": 4,
  "nbformat_minor": 0,
  "metadata": {
    "colab": {
      "name": "dt_algorithm.ipynb",
      "provenance": [],
      "collapsed_sections": [],
      "authorship_tag": "ABX9TyMpNMcwJIGu6Kg3ItuakbTL",
      "include_colab_link": true
    },
    "kernelspec": {
      "name": "python3",
      "display_name": "Python 3"
    }
  },
  "cells": [
    {
      "cell_type": "markdown",
      "metadata": {
        "id": "view-in-github",
        "colab_type": "text"
      },
      "source": [
        "<a href=\"https://colab.research.google.com/github/dal7collab/google_collab_py/blob/main/dt_algorithm.ipynb\" target=\"_parent\"><img src=\"https://colab.research.google.com/assets/colab-badge.svg\" alt=\"Open In Colab\"/></a>"
      ]
    },
    {
      "cell_type": "code",
      "metadata": {
        "id": "3lO9Oz6O1jDR"
      },
      "source": [
        "import pandas as pd\r\n",
        "import math   as mt\r\n",
        "import json   as js"
      ],
      "execution_count": null,
      "outputs": []
    },
    {
      "cell_type": "code",
      "metadata": {
        "id": "xxqz4QgQyymo"
      },
      "source": [
        "data = [('Sunny', 'Hot', 'High', 'Weak', 'No'),\r\n",
        "        ('Sunny', 'Hot', 'High', 'Strong', 'No'),\r\n",
        "        ('Overcast', 'Hot', 'High', 'Weak', 'Yes'),\r\n",
        "        ('Rain', 'Mild', 'High', 'Weak', 'Yes'),\r\n",
        "        ('Rain', 'Cool', 'Normal', 'Weak', 'Yes'),\r\n",
        "        ('Rain', 'Cool', 'Normal', 'Strong', 'No'),\r\n",
        "        ('Overcast', 'Cool', 'Normal', 'Strong', 'Yes'),\r\n",
        "        ('Sunny', 'Mild', 'High', 'Weak', 'No'),\r\n",
        "        ('Sunny', 'Cool', 'Normal', 'Weak', 'Yes'),\r\n",
        "        ('Rain', 'Mild', 'Normal', 'Weak', 'Yes'),\r\n",
        "        ('Sunny', 'Mild', 'Normal', 'Strong', 'Yes'),\r\n",
        "        ('Overcast', 'Mild', 'High', 'Strong', 'Yes'),\r\n",
        "        ('Overcast', 'Hot', 'Normal', 'Weak', 'Yes'),\r\n",
        "        ('Rain', 'Mild', 'High', 'Strong', 'No')]\r\n",
        "\r\n",
        "data = pd.DataFrame(data, columns = ['Outlook','Temperature','Humidity','Windy','Play']) "
      ],
      "execution_count": null,
      "outputs": []
    },
    {
      "cell_type": "code",
      "metadata": {
        "id": "QoB7XIVR1xRx"
      },
      "source": [
        "def majority_vote(df, target):\r\n",
        "  return df[target].mode()[0]\r\n",
        "\r\n",
        "def entropy(df, column):\r\n",
        "  s   = df.groupby(column).size()\r\n",
        "  sum = s.sum()\r\n",
        "  res = 0\r\n",
        "  for value in s.items():\r\n",
        "    tmp  = (value[1] / sum) * mt.log((value[1] / sum) , 2)\r\n",
        "    res  = res + tmp\r\n",
        "  res = -1 * round(res, 4)  \r\n",
        "  return res \r\n",
        "\r\n",
        "def c_entropy(df, column, target):\r\n",
        "  s   = df.groupby(column).size()\r\n",
        "  sum = s.sum()\r\n",
        "  res = 0\r\n",
        "  for value in s.items():\r\n",
        "    tmp_d = df[df[column] == value[0]]\r\n",
        "    tmp_e = entropy(tmp_d, target)\r\n",
        "    tmp_e = (value[1] / sum) * tmp_e\r\n",
        "    res   = res + tmp_e\r\n",
        "  res = round(res, 4)  \r\n",
        "  return res \r\n",
        "\r\n",
        "def info_gain(df, column, target):\r\n",
        "  res = entropy(df, target) - c_entropy(df, column, target)\r\n",
        "  res = round(res, 4)  \r\n",
        "  return res\r\n",
        "\r\n",
        "def decision_stump(df, column, target):\r\n",
        "  s = df.groupby(column).size()\r\n",
        "  r = {}\r\n",
        "  r[column] = info_gain(df, column, target)\r\n",
        "  for value in s.items():\r\n",
        "    tmp_d = df[df[column] == value[0]]\r\n",
        "    tmp_m = majority_vote(tmp_d, target)\r\n",
        "    tmp_p = tmp_d[tmp_d[target] == tmp_m]\r\n",
        "    r[value[0]]  = [tmp_m, value[1], tmp_p.shape[0], tmp_p.index.values + 1]\r\n",
        "  return r\r\n",
        "\r\n",
        "def best_feature(df, target):\r\n",
        "  max_info = 0\r\n",
        "  for c in df.columns:\r\n",
        "    if c != target:\r\n",
        "      t_info = info_gain(df, c, target)\r\n",
        "      if t_info >= max_info:\r\n",
        "        max_col  = c\r\n",
        "        max_info = t_info\r\n",
        "  return max_col, max_info\r\n",
        "\r\n",
        "def best_decision_stump(df, target):\r\n",
        "  best_col, best_info = best_feature(df, target)\r\n",
        "  res = decision_stump(df, best_col, target)\r\n",
        "  return res\r\n",
        "\r\n",
        "def fit_tree(df, target):\r\n",
        "  'recursion'\r\n",
        "  'stop criterions'\r\n",
        "  'tbd'\r\n",
        "  return 0"
      ],
      "execution_count": null,
      "outputs": []
    },
    {
      "cell_type": "code",
      "metadata": {
        "colab": {
          "base_uri": "https://localhost:8080/"
        },
        "id": "8svxByTUORlx",
        "outputId": "29d200e1-c5ae-484b-afa2-7ca05c040cef"
      },
      "source": [
        "t = 'Play'\r\n",
        "s = best_decision_stump(data, t)\r\n",
        "print(s)"
      ],
      "execution_count": null,
      "outputs": [
        {
          "output_type": "stream",
          "text": [
            "{'Outlook': 0.2467, 'Overcast': ['Yes', 4, 4, array([ 3,  7, 12, 13])], 'Rain': ['Yes', 5, 3, array([ 4,  5, 10])], 'Sunny': ['No', 5, 3, array([1, 2, 8])]}\n"
          ],
          "name": "stdout"
        }
      ]
    },
    {
      "cell_type": "code",
      "metadata": {
        "id": "h1w43VU96niG"
      },
      "source": [
        "data_rain = data[data['Outlook'] == 'Rain']\r\n",
        "del data_rain['Outlook']\r\n",
        "\r\n",
        "data_sunny = data[data['Outlook'] == 'Sunny']\r\n",
        "del data_sunny['Outlook']"
      ],
      "execution_count": null,
      "outputs": []
    },
    {
      "cell_type": "code",
      "metadata": {
        "colab": {
          "base_uri": "https://localhost:8080/"
        },
        "id": "G174w2kfgdnw",
        "outputId": "f98cc94b-d618-45d6-ff9b-a8a4e8857763"
      },
      "source": [
        "t = 'Play'\r\n",
        "s = best_decision_stump(data_rain, t)\r\n",
        "print(s)\r\n",
        "\r\n",
        "t = 'Play'\r\n",
        "s = best_decision_stump(data_sunny, t)\r\n",
        "print(s)"
      ],
      "execution_count": null,
      "outputs": [
        {
          "output_type": "stream",
          "text": [
            "{'Windy': 0.971, 'Strong': ['No', 2, 2, array([ 6, 14])], 'Weak': ['Yes', 3, 3, array([ 4,  5, 10])]}\n",
            "{'Humidity': 0.971, 'High': ['No', 3, 3, array([1, 2, 8])], 'Normal': ['Yes', 2, 2, array([ 9, 11])]}\n"
          ],
          "name": "stdout"
        }
      ]
    },
    {
      "cell_type": "code",
      "metadata": {
        "colab": {
          "base_uri": "https://localhost:8080/",
          "height": 200
        },
        "id": "hSGEPfVxljaE",
        "outputId": "30e5e9b6-aa34-4ffc-88d6-88bd2a879e1a"
      },
      "source": [
        "data_sunny"
      ],
      "execution_count": null,
      "outputs": [
        {
          "output_type": "execute_result",
          "data": {
            "text/html": [
              "<div>\n",
              "<style scoped>\n",
              "    .dataframe tbody tr th:only-of-type {\n",
              "        vertical-align: middle;\n",
              "    }\n",
              "\n",
              "    .dataframe tbody tr th {\n",
              "        vertical-align: top;\n",
              "    }\n",
              "\n",
              "    .dataframe thead th {\n",
              "        text-align: right;\n",
              "    }\n",
              "</style>\n",
              "<table border=\"1\" class=\"dataframe\">\n",
              "  <thead>\n",
              "    <tr style=\"text-align: right;\">\n",
              "      <th></th>\n",
              "      <th>Temperature</th>\n",
              "      <th>Humidity</th>\n",
              "      <th>Windy</th>\n",
              "      <th>Play</th>\n",
              "    </tr>\n",
              "  </thead>\n",
              "  <tbody>\n",
              "    <tr>\n",
              "      <th>0</th>\n",
              "      <td>Hot</td>\n",
              "      <td>High</td>\n",
              "      <td>Weak</td>\n",
              "      <td>No</td>\n",
              "    </tr>\n",
              "    <tr>\n",
              "      <th>1</th>\n",
              "      <td>Hot</td>\n",
              "      <td>High</td>\n",
              "      <td>Strong</td>\n",
              "      <td>No</td>\n",
              "    </tr>\n",
              "    <tr>\n",
              "      <th>7</th>\n",
              "      <td>Mild</td>\n",
              "      <td>High</td>\n",
              "      <td>Weak</td>\n",
              "      <td>No</td>\n",
              "    </tr>\n",
              "    <tr>\n",
              "      <th>8</th>\n",
              "      <td>Cool</td>\n",
              "      <td>Normal</td>\n",
              "      <td>Weak</td>\n",
              "      <td>Yes</td>\n",
              "    </tr>\n",
              "    <tr>\n",
              "      <th>10</th>\n",
              "      <td>Mild</td>\n",
              "      <td>Normal</td>\n",
              "      <td>Strong</td>\n",
              "      <td>Yes</td>\n",
              "    </tr>\n",
              "  </tbody>\n",
              "</table>\n",
              "</div>"
            ],
            "text/plain": [
              "   Temperature Humidity   Windy Play\n",
              "0          Hot     High    Weak   No\n",
              "1          Hot     High  Strong   No\n",
              "7         Mild     High    Weak   No\n",
              "8         Cool   Normal    Weak  Yes\n",
              "10        Mild   Normal  Strong  Yes"
            ]
          },
          "metadata": {
            "tags": []
          },
          "execution_count": 14
        }
      ]
    }
  ]
}