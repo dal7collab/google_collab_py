{
  "nbformat": 4,
  "nbformat_minor": 0,
  "metadata": {
    "colab": {
      "name": "indian_food.ipynb",
      "provenance": [],
      "toc_visible": true,
      "authorship_tag": "ABX9TyNxwAie11nGVQrbyXYqOF7k",
      "include_colab_link": true
    },
    "kernelspec": {
      "name": "python3",
      "display_name": "Python 3"
    }
  },
  "cells": [
    {
      "cell_type": "markdown",
      "metadata": {
        "id": "view-in-github",
        "colab_type": "text"
      },
      "source": [
        "<a href=\"https://colab.research.google.com/github/dal7collab/google_collab_py/blob/main/indian_food.ipynb\" target=\"_parent\"><img src=\"https://colab.research.google.com/assets/colab-badge.svg\" alt=\"Open In Colab\"/></a>"
      ]
    },
    {
      "cell_type": "code",
      "metadata": {
        "id": "6W-_D4YpGW8I"
      },
      "source": [
        "# Google User Authentication\n",
        "from google.colab import auth\n",
        "auth.authenticate_user()"
      ],
      "execution_count": null,
      "outputs": []
    },
    {
      "cell_type": "code",
      "metadata": {
        "id": "w1UyNt5TJk8_"
      },
      "source": [
        "# Google Credentials Authentication\n",
        "import gspread\n",
        "from oauth2client.client import GoogleCredentials\n",
        "gc = gspread.authorize(GoogleCredentials.get_application_default())"
      ],
      "execution_count": null,
      "outputs": []
    },
    {
      "cell_type": "code",
      "metadata": {
        "id": "YYG8iOUMIWBq"
      },
      "source": [
        "# Import Google Sheet into Google Collab Data Object\n",
        "cn = gc.open('indian_food').sheet1\n",
        "sh = cn.get_all_values()\n",
        "print(sh[0:1])"
      ],
      "execution_count": null,
      "outputs": []
    },
    {
      "cell_type": "code",
      "metadata": {
        "id": "uy4o4eGvJSDa"
      },
      "source": [
        "# Convert Google Sheet into Pandas Data Frame\n",
        "import pandas as pd\n",
        "df_sh = pd.DataFrame.from_records(sh)"
      ],
      "execution_count": null,
      "outputs": []
    },
    {
      "cell_type": "code",
      "metadata": {
        "id": "0_oDpfkGNwAr"
      },
      "source": [
        "# Convert First Row into Header\n",
        "header = df_sh.iloc[0]        # Grab the first row for the header\n",
        "df_sh  = df_sh[1:]            # Take the data less the header row\n",
        "df_sh.columns = header        # Set the header row as the df header"
      ],
      "execution_count": null,
      "outputs": []
    },
    {
      "cell_type": "code",
      "metadata": {
        "id": "ZVC2M9EkPcBb"
      },
      "source": [
        "# Copy Data Frame\n",
        "df = df_sh.copy(deep = True)"
      ],
      "execution_count": null,
      "outputs": []
    },
    {
      "cell_type": "code",
      "metadata": {
        "id": "G2iE48gkLTWf"
      },
      "source": [
        "# Obtain Data Frame General Info \n",
        "# Column names, Missing values, Data types\n",
        "df.info()"
      ],
      "execution_count": null,
      "outputs": []
    },
    {
      "cell_type": "code",
      "metadata": {
        "id": "V6I0qMAPX9vs"
      },
      "source": [
        "# Retrieve First n (5) Rows\n",
        "n = 5\n",
        "df.head(n)"
      ],
      "execution_count": null,
      "outputs": []
    },
    {
      "cell_type": "code",
      "metadata": {
        "id": "0tAhbZbWQ7KY"
      },
      "source": [
        "# Describe Data Frame General Info\n",
        "df['prep_time'].describe()"
      ],
      "execution_count": null,
      "outputs": []
    },
    {
      "cell_type": "code",
      "metadata": {
        "id": "IJEq3wCpSIc-"
      },
      "source": [
        "# Cast Column Type\n",
        "df['prep_time'] = df['prep_time'].astype({'prep_time': 'int32'})"
      ],
      "execution_count": null,
      "outputs": []
    },
    {
      "cell_type": "code",
      "metadata": {
        "id": "ifG8YevxY_0E"
      },
      "source": [
        "# Function Casting Column Type\n",
        "def cast_type(data_frame, column_name, type_name):\n",
        "  data_frame[column_name] = df[column_name].astype({column_name:type_name}) \n",
        "  print(\"OK.\")\n",
        "  print(\"----------------\")\n",
        "  df[column_name].describe()"
      ],
      "execution_count": null,
      "outputs": []
    },
    {
      "cell_type": "code",
      "metadata": {
        "id": "6ONsv87NaAbC"
      },
      "source": [
        "# Function Launch\n",
        "cast_type(df,'cook_time','int32')"
      ],
      "execution_count": null,
      "outputs": []
    },
    {
      "cell_type": "code",
      "metadata": {
        "id": "-ozG8sFBcExr"
      },
      "source": [
        "# Data Numerical Columns 'Simple' Stats\n",
        "df.describe()"
      ],
      "execution_count": null,
      "outputs": []
    },
    {
      "cell_type": "code",
      "metadata": {
        "id": "Xy4ib4WNcqw9"
      },
      "source": [
        "# Data Categorical Columns 'Simple' Stats\n",
        "df.describe(include=['O'])"
      ],
      "execution_count": null,
      "outputs": []
    },
    {
      "cell_type": "code",
      "metadata": {
        "id": "rlzU8DPNdB5t"
      },
      "source": [
        "# Replace -1 values to np.nan values in specific column data frame\n",
        "import numpy as np\n",
        "df_rp = df.copy(deep = True)\n",
        "df_rp[\"cook_time_none\"] = df_rp[\"cook_time\"].replace(to_replace = -1,\n",
        "                                                          value = np.nan,\n",
        "                                                        inplace = False)"
      ],
      "execution_count": null,
      "outputs": []
    },
    {
      "cell_type": "code",
      "metadata": {
        "id": "iKAmu_Cgy4hd"
      },
      "source": [
        "df_rp.info()"
      ],
      "execution_count": null,
      "outputs": []
    },
    {
      "cell_type": "code",
      "metadata": {
        "id": "zdsnhJH9-Mci"
      },
      "source": [
        "# Replace -1 values to np.nan values in all data frame\n",
        "import numpy as np\n",
        "df_rp = df.copy(deep = True)\n",
        "df_rp.replace(to_replace = -1,\n",
        "                   value = np.nan,\n",
        "                 inplace = True)"
      ],
      "execution_count": null,
      "outputs": []
    },
    {
      "cell_type": "code",
      "metadata": {
        "id": "Hnrrw9AC-mrw"
      },
      "source": [
        "# Function replaces np.nan values in all data frame with relevant statistics (mean, mode)\n",
        "def rep_missings(data_frame):\n",
        "    d = data_frame.copy(deep = True)\n",
        "    for c in data_frame:\n",
        "        if (data_frame[c].dtype == 'int32'):\n",
        "            if data_frame[c].isnull().values.any():\n",
        "                m = data_frame[c].dropna().mean()\n",
        "                d[c].fillna(m, inplace = True)\n",
        "        else:          \n",
        "            if data_frame[c].isnull().values.any():\n",
        "                m = data_frame[c].dropna().mode()[0]\n",
        "                d[c].fillna(m, inplace = True)\n",
        "    return d"
      ],
      "execution_count": null,
      "outputs": []
    },
    {
      "cell_type": "code",
      "metadata": {
        "id": "LENHTDVo_oDj"
      },
      "source": [
        "# Replace np.nan values in all data frame with relevant statistics (mean, mode)\n",
        "df_rp = rep_missings(df_rp)"
      ],
      "execution_count": null,
      "outputs": []
    },
    {
      "cell_type": "code",
      "metadata": {
        "id": "1V3hxWu0njGn"
      },
      "source": [
        "# Export data_frame into Google drive in comma separated format\n",
        "df_rp.to_csv('/drive/My Drive/out/indian_food_nulls.csv')"
      ],
      "execution_count": null,
      "outputs": []
    }
  ]
}