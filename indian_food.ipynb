{
  "nbformat": 4,
  "nbformat_minor": 0,
  "metadata": {
    "colab": {
      "name": "indian_food.ipynb",
      "provenance": [],
      "collapsed_sections": [],
      "toc_visible": true,
      "authorship_tag": "ABX9TyNHz06Qkp8CZBbpzZInw7yy",
      "include_colab_link": true
    },
    "kernelspec": {
      "name": "python3",
      "display_name": "Python 3"
    }
  },
  "cells": [
    {
      "cell_type": "markdown",
      "metadata": {
        "id": "view-in-github",
        "colab_type": "text"
      },
      "source": [
        "<a href=\"https://colab.research.google.com/github/dal7collab/google_collab_py/blob/main/indian_food.ipynb\" target=\"_parent\"><img src=\"https://colab.research.google.com/assets/colab-badge.svg\" alt=\"Open In Colab\"/></a>"
      ]
    },
    {
      "cell_type": "markdown",
      "metadata": {
        "id": "jnb86jJYo4B4"
      },
      "source": [
        "# IMPORT FILE FROM DRIVE"
      ]
    },
    {
      "cell_type": "code",
      "metadata": {
        "id": "6W-_D4YpGW8I"
      },
      "source": [
        "# Google User Authentication\n",
        "from google.colab import auth\n",
        "auth.authenticate_user()"
      ],
      "execution_count": null,
      "outputs": []
    },
    {
      "cell_type": "code",
      "metadata": {
        "id": "w1UyNt5TJk8_"
      },
      "source": [
        "# Google Credentials Authentication\n",
        "import gspread\n",
        "from oauth2client.client import GoogleCredentials\n",
        "gc = gspread.authorize(GoogleCredentials.get_application_default())"
      ],
      "execution_count": null,
      "outputs": []
    },
    {
      "cell_type": "code",
      "metadata": {
        "id": "YYG8iOUMIWBq"
      },
      "source": [
        "# Import Google Sheet into Google Collab Data Object\n",
        "file_name = 'indian_food' \n",
        "cn = gc.open(file_name).sheet1\n",
        "sh = cn.get_all_values()\n",
        "print(sh[0:1])"
      ],
      "execution_count": null,
      "outputs": []
    },
    {
      "cell_type": "markdown",
      "metadata": {
        "id": "j0i_vWjYov-_"
      },
      "source": [
        "# PANDAS"
      ]
    },
    {
      "cell_type": "code",
      "metadata": {
        "id": "uy4o4eGvJSDa"
      },
      "source": [
        "# Convert Google Sheet into Pandas Data Frame\n",
        "import pandas as pd\n",
        "df_sh = pd.DataFrame.from_records(sh)"
      ],
      "execution_count": null,
      "outputs": []
    },
    {
      "cell_type": "code",
      "metadata": {
        "id": "0_oDpfkGNwAr"
      },
      "source": [
        "# Convert First Row into Header\n",
        "header = df_sh.iloc[0]        # Grab the first row for the header\n",
        "df_sh  = df_sh[1:]            # Take the data less the header row\n",
        "df_sh.columns = header        # Set the header row as the df header"
      ],
      "execution_count": null,
      "outputs": []
    },
    {
      "cell_type": "code",
      "metadata": {
        "id": "ZVC2M9EkPcBb"
      },
      "source": [
        "# Copy Data Frame\n",
        "df = df_sh.copy(deep = True)"
      ],
      "execution_count": null,
      "outputs": []
    },
    {
      "cell_type": "code",
      "metadata": {
        "id": "G2iE48gkLTWf"
      },
      "source": [
        "# Obtain Data Frame General Info \n",
        "# Column names, Missing values, Data types\n",
        "df.info()"
      ],
      "execution_count": null,
      "outputs": []
    },
    {
      "cell_type": "code",
      "metadata": {
        "id": "V6I0qMAPX9vs"
      },
      "source": [
        "# Retrieve First n (5) Rows\n",
        "n = 2\n",
        "df.head(n)\n",
        "# df.tail(n)"
      ],
      "execution_count": null,
      "outputs": []
    },
    {
      "cell_type": "code",
      "metadata": {
        "id": "0tAhbZbWQ7KY"
      },
      "source": [
        "# Describe Data Frame Series General Info\n",
        "name = 'course'\n",
        "df[name].describe()"
      ],
      "execution_count": null,
      "outputs": []
    },
    {
      "cell_type": "code",
      "metadata": {
        "id": "g7GH0ugDMqhM"
      },
      "source": [
        "# Obtain Data Frame Series Unique Values\n",
        "name = 'course'\n",
        "df[name].unique()"
      ],
      "execution_count": null,
      "outputs": []
    },
    {
      "cell_type": "code",
      "metadata": {
        "id": "IJEq3wCpSIc-"
      },
      "source": [
        "# Transform Column Type from Object to int32\n",
        "df['prep_time'] = df['prep_time'].astype({'prep_time': 'int32'})"
      ],
      "execution_count": null,
      "outputs": []
    },
    {
      "cell_type": "code",
      "metadata": {
        "id": "he8P-gI3NkgU"
      },
      "source": [
        "# Check again Data Frame Series General Info\n",
        "name = 'prep_time'\n",
        "df[name].describe()"
      ],
      "execution_count": null,
      "outputs": []
    },
    {
      "cell_type": "code",
      "metadata": {
        "id": "ifG8YevxY_0E"
      },
      "source": [
        "# Function Casting Column Type\n",
        "def cast_type(data_frame, column_name, type_name):\n",
        "  data_frame[column_name] = data_frame[column_name].astype({column_name:type_name}) \n",
        "  print(column_name + ':ok')"
      ],
      "execution_count": null,
      "outputs": []
    },
    {
      "cell_type": "code",
      "metadata": {
        "id": "6ONsv87NaAbC"
      },
      "source": [
        "# Function Run\n",
        "column_name = 'cook_time'\n",
        "cast_type(df, column_name, 'int32')\n",
        "df[column_name].describe()"
      ],
      "execution_count": null,
      "outputs": []
    },
    {
      "cell_type": "code",
      "metadata": {
        "id": "-ozG8sFBcExr"
      },
      "source": [
        "# Data Numerical Columns 'Simple' Stats\n",
        "df.describe()"
      ],
      "execution_count": null,
      "outputs": []
    },
    {
      "cell_type": "code",
      "metadata": {
        "id": "Xy4ib4WNcqw9"
      },
      "source": [
        "# Data Categorical Columns 'Simple' Stats\n",
        "df.describe(include=['O'])"
      ],
      "execution_count": null,
      "outputs": []
    },
    {
      "cell_type": "code",
      "metadata": {
        "id": "rlzU8DPNdB5t"
      },
      "source": [
        "# Replace -1 values to np.nan values in specific column data frame\n",
        "import numpy as np\n",
        "df_rp = df.copy(deep = True)\n",
        "df_rp['cook_time_none'] = df_rp['cook_time'].replace(to_replace = -1,\n",
        "                                                          value = np.nan,\n",
        "                                                        inplace = False)"
      ],
      "execution_count": null,
      "outputs": []
    },
    {
      "cell_type": "code",
      "metadata": {
        "id": "upyem2ULTCey"
      },
      "source": [
        "# Source Dataframe Info\n",
        "df.info()"
      ],
      "execution_count": null,
      "outputs": []
    },
    {
      "cell_type": "code",
      "metadata": {
        "id": "iKAmu_Cgy4hd"
      },
      "source": [
        "# Current Dataframe Info after -1 values replace to NaN\n",
        "df_rp.info()"
      ],
      "execution_count": null,
      "outputs": []
    },
    {
      "cell_type": "code",
      "metadata": {
        "id": "zdsnhJH9-Mci"
      },
      "source": [
        "# Replace -1 Values to np.nan values in Dataframe\n",
        "import numpy as np\n",
        "df_rp = df.copy(deep = True)\n",
        "df_rp.replace(to_replace = [-1, '-1'],\n",
        "                   value = np.nan,\n",
        "                 inplace = True)"
      ],
      "execution_count": null,
      "outputs": []
    },
    {
      "cell_type": "code",
      "metadata": {
        "id": "KiGwoYFt4AxD"
      },
      "source": [
        "# Count NaN rows in Dataframe\n",
        "name = 'state'\n",
        "s = df_rp.loc[df_rp[name].isna()]\n",
        "len(s.index)"
      ],
      "execution_count": null,
      "outputs": []
    },
    {
      "cell_type": "markdown",
      "metadata": {
        "id": "xxGO31wA8qfB"
      },
      "source": [
        "# MISSING VALUES REPLACEMENT"
      ]
    },
    {
      "cell_type": "code",
      "metadata": {
        "id": "Hnrrw9AC-mrw"
      },
      "source": [
        "# Function replaces np.nan values in all data frame with relevant statistics (mean, mode)\n",
        "def rep_missings(data_frame):\n",
        "    d = data_frame.copy(deep = True)\n",
        "    for c in data_frame:\n",
        "        if (data_frame[c].dtype == 'int32'):\n",
        "            if data_frame[c].isnull().values.any():\n",
        "                m = data_frame[c].dropna().mean()\n",
        "                d[c].fillna(m, inplace = True)\n",
        "        else:   \n",
        "            if data_frame[c].isnull().values.any():\n",
        "              m = data_frame[c].dropna().mode()[0]\n",
        "              d[c].fillna(m, inplace = True)              \n",
        "    return d"
      ],
      "execution_count": null,
      "outputs": []
    },
    {
      "cell_type": "code",
      "metadata": {
        "id": "LENHTDVo_oDj"
      },
      "source": [
        "# Replace np.nan values in all data frame with relevant statistics (mean, mode)\n",
        "df_rp = rep_missings(df_rp)"
      ],
      "execution_count": null,
      "outputs": []
    },
    {
      "cell_type": "code",
      "metadata": {
        "id": "xNgyjOBErE1T"
      },
      "source": [
        "name = 'region'\n",
        "a = df_rp[name].unique()\n",
        "a\n",
        "# a[0]\n",
        "# a[a.size - 1]"
      ],
      "execution_count": null,
      "outputs": []
    },
    {
      "cell_type": "markdown",
      "metadata": {
        "id": "z7HvgaMspEvY"
      },
      "source": [
        "# EXPORT FILE TO DRIVE"
      ]
    },
    {
      "cell_type": "code",
      "metadata": {
        "id": "FVQHjpUSlKAy"
      },
      "source": [
        "# Mount Google drive in Google Collab\n",
        "from google.colab import drive\n",
        "drive.mount('/drive')"
      ],
      "execution_count": null,
      "outputs": []
    },
    {
      "cell_type": "code",
      "metadata": {
        "id": "1V3hxWu0njGn"
      },
      "source": [
        "# Export data_frame into Google drive in comma separated format\n",
        "df_rp.to_csv('/drive/My Drive/indian_food_nulls.csv')\n",
        "print(\"File was exported succesfully.\")"
      ],
      "execution_count": null,
      "outputs": []
    },
    {
      "cell_type": "markdown",
      "metadata": {
        "id": "7xnuKk1b8dDW"
      },
      "source": [
        "# BI DASHBOARDS OPTIMIZATION"
      ]
    },
    {
      "cell_type": "code",
      "metadata": {
        "id": "66mRUifO8YTD"
      },
      "source": [
        "name = 'region'\n",
        "a = df_rp[name].unique()\n",
        "a"
      ],
      "execution_count": null,
      "outputs": []
    },
    {
      "cell_type": "code",
      "metadata": {
        "id": "c1LP_bR4w2Nm"
      },
      "source": [
        "# BI INSIGHTS ROBOT\n",
        "def bi_robot(dataframe, dimensions, measure):\n",
        "  # Student WORK \n",
        "  # Lecturer first preparations, hints and thoughts\n",
        "  # This function needs to return anomalous tuples which can be serve\n",
        "  # as default values in BI dashboards and further BI dashboards conclusions\n",
        "  t = {}\n",
        "  for d in dimensions:\n",
        "    du = dataframe[d].unique() \n",
        "    t[d] = du[0]\n",
        "\n",
        "  for v in t:\n",
        "    key       = v\n",
        "    value     = [t[v]]\n",
        "    dataframe = dataframe.loc[dataframe[key].isin(value)] \n",
        "    stat      = dataframe[measure].mean() \n",
        "  \n",
        "  print('---------------------')\n",
        "  print(t, end = '')  \n",
        "  print(' Mean:' + \"{:.2f}\".format(stat))\n",
        "  print('---------------------')\n",
        "  return t\n"
      ],
      "execution_count": null,
      "outputs": []
    },
    {
      "cell_type": "code",
      "metadata": {
        "colab": {
          "base_uri": "https://localhost:8080/"
        },
        "id": "3Z0mM-yEyEgE",
        "outputId": "1fa92d77-d137-4d03-c7a7-b870707ebaf7"
      },
      "source": [
        "df         = df_rp.copy(deep = True)\n",
        "filters    = ['diet', 'course']\n",
        "measure    = 'prep_time'\n",
        "df = bi_robot(df, filters, measure)\n",
        "df"
      ],
      "execution_count": null,
      "outputs": [
        {
          "output_type": "stream",
          "text": [
            "---------------------\n",
            "{'diet': 'vegetarian', 'course': 'dessert'} Mean:28.08\n",
            "---------------------\n"
          ],
          "name": "stdout"
        },
        {
          "output_type": "execute_result",
          "data": {
            "text/plain": [
              "{'course': 'dessert', 'diet': 'vegetarian'}"
            ]
          },
          "metadata": {
            "tags": []
          },
          "execution_count": 87
        }
      ]
    }
  ]
}