{
  "nbformat": 4,
  "nbformat_minor": 0,
  "metadata": {
    "colab": {
      "name": "indian_food.ipynb",
      "provenance": [],
      "collapsed_sections": [],
      "toc_visible": true,
      "authorship_tag": "ABX9TyNzoY/aocqykSnD/0CwCdQ+",
      "include_colab_link": true
    },
    "kernelspec": {
      "name": "python3",
      "display_name": "Python 3"
    }
  },
  "cells": [
    {
      "cell_type": "markdown",
      "metadata": {
        "id": "view-in-github",
        "colab_type": "text"
      },
      "source": [
        "<a href=\"https://colab.research.google.com/github/dal7collab/google_collab_py/blob/main/indian_food.ipynb\" target=\"_parent\"><img src=\"https://colab.research.google.com/assets/colab-badge.svg\" alt=\"Open In Colab\"/></a>"
      ]
    },
    {
      "cell_type": "markdown",
      "metadata": {
        "id": "jnb86jJYo4B4"
      },
      "source": [
        "# IMPORT FILE FROM DRIVE"
      ]
    },
    {
      "cell_type": "code",
      "metadata": {
        "id": "6W-_D4YpGW8I"
      },
      "source": [
        "# Google User Authentication\n",
        "from google.colab import auth\n",
        "auth.authenticate_user()"
      ],
      "execution_count": 1,
      "outputs": []
    },
    {
      "cell_type": "code",
      "metadata": {
        "id": "w1UyNt5TJk8_"
      },
      "source": [
        "# Google Credentials Authentication\n",
        "import gspread\n",
        "from oauth2client.client import GoogleCredentials\n",
        "gc = gspread.authorize(GoogleCredentials.get_application_default())"
      ],
      "execution_count": 2,
      "outputs": []
    },
    {
      "cell_type": "code",
      "metadata": {
        "id": "YYG8iOUMIWBq",
        "colab": {
          "base_uri": "https://localhost:8080/"
        },
        "outputId": "20c1d69a-98fc-481d-f3f6-aa86d50509ba"
      },
      "source": [
        "# Import Google Sheet into Google Collab Data Object\n",
        "file_name = 'indian_food' \n",
        "cn = gc.open(file_name).sheet1\n",
        "sh = cn.get_all_values()\n",
        "print(sh[0:1])"
      ],
      "execution_count": 3,
      "outputs": [
        {
          "output_type": "stream",
          "text": [
            "[['name', 'ingredients', 'diet', 'prep_time', 'cook_time', 'flavor_profile', 'course', 'state', 'region']]\n"
          ],
          "name": "stdout"
        }
      ]
    },
    {
      "cell_type": "markdown",
      "metadata": {
        "id": "j0i_vWjYov-_"
      },
      "source": [
        "# PANDAS"
      ]
    },
    {
      "cell_type": "code",
      "metadata": {
        "id": "uy4o4eGvJSDa"
      },
      "source": [
        "# Convert Google Sheet into Pandas Data Frame\n",
        "import pandas as pd\n",
        "import numpy  as np\n",
        "df_sh = pd.DataFrame.from_records(sh)"
      ],
      "execution_count": 4,
      "outputs": []
    },
    {
      "cell_type": "code",
      "metadata": {
        "id": "0_oDpfkGNwAr"
      },
      "source": [
        "# Convert First Row into Header\n",
        "header = df_sh.iloc[0]        # Grab the first row for the header\n",
        "df_sh  = df_sh[1:]            # Take the data less the header row\n",
        "df_sh.columns = header        # Set the header row as the df header"
      ],
      "execution_count": 5,
      "outputs": []
    },
    {
      "cell_type": "code",
      "metadata": {
        "id": "G2iE48gkLTWf",
        "colab": {
          "base_uri": "https://localhost:8080/"
        },
        "outputId": "44f8520b-eade-4c53-e8ca-67e38ce32801"
      },
      "source": [
        "# Obtain Data Frame General Info \n",
        "# Column names, Missing values, Data types\n",
        "df_sh.info()"
      ],
      "execution_count": 6,
      "outputs": [
        {
          "output_type": "stream",
          "text": [
            "<class 'pandas.core.frame.DataFrame'>\n",
            "RangeIndex: 255 entries, 1 to 255\n",
            "Data columns (total 9 columns):\n",
            " #   Column          Non-Null Count  Dtype \n",
            "---  ------          --------------  ----- \n",
            " 0   name            255 non-null    object\n",
            " 1   ingredients     255 non-null    object\n",
            " 2   diet            255 non-null    object\n",
            " 3   prep_time       255 non-null    object\n",
            " 4   cook_time       255 non-null    object\n",
            " 5   flavor_profile  255 non-null    object\n",
            " 6   course          255 non-null    object\n",
            " 7   state           255 non-null    object\n",
            " 8   region          255 non-null    object\n",
            "dtypes: object(9)\n",
            "memory usage: 18.1+ KB\n"
          ],
          "name": "stdout"
        }
      ]
    },
    {
      "cell_type": "code",
      "metadata": {
        "id": "-ydl_SitaUy4"
      },
      "source": [
        "# Copy dataframe\r\n",
        "df = df_sh.copy(deep = True)"
      ],
      "execution_count": 7,
      "outputs": []
    },
    {
      "cell_type": "code",
      "metadata": {
        "colab": {
          "base_uri": "https://localhost:8080/"
        },
        "id": "apIb0FJubI50",
        "outputId": "d12995b9-da2e-4512-a85c-dcd6b672a309"
      },
      "source": [
        "# Copy dataframe by specific column names\r\n",
        "_df_ = df_sh.copy(deep = True)\r\n",
        "cols = ['name', 'prep_time']\r\n",
        "_df_ = _df_[cols]\r\n",
        "_df_.info()"
      ],
      "execution_count": 8,
      "outputs": [
        {
          "output_type": "stream",
          "text": [
            "<class 'pandas.core.frame.DataFrame'>\n",
            "RangeIndex: 255 entries, 1 to 255\n",
            "Data columns (total 2 columns):\n",
            " #   Column     Non-Null Count  Dtype \n",
            "---  ------     --------------  ----- \n",
            " 0   name       255 non-null    object\n",
            " 1   prep_time  255 non-null    object\n",
            "dtypes: object(2)\n",
            "memory usage: 4.1+ KB\n"
          ],
          "name": "stdout"
        }
      ]
    },
    {
      "cell_type": "code",
      "metadata": {
        "id": "V6I0qMAPX9vs",
        "colab": {
          "base_uri": "https://localhost:8080/",
          "height": 127
        },
        "outputId": "1c69352d-7a4d-4669-dcef-3b4488c6368e"
      },
      "source": [
        "# Retrieve First n (5) Rows\n",
        "n = 2\n",
        "df.head(n)\n",
        "# df.tail(n)"
      ],
      "execution_count": 9,
      "outputs": [
        {
          "output_type": "execute_result",
          "data": {
            "text/html": [
              "<div>\n",
              "<style scoped>\n",
              "    .dataframe tbody tr th:only-of-type {\n",
              "        vertical-align: middle;\n",
              "    }\n",
              "\n",
              "    .dataframe tbody tr th {\n",
              "        vertical-align: top;\n",
              "    }\n",
              "\n",
              "    .dataframe thead th {\n",
              "        text-align: right;\n",
              "    }\n",
              "</style>\n",
              "<table border=\"1\" class=\"dataframe\">\n",
              "  <thead>\n",
              "    <tr style=\"text-align: right;\">\n",
              "      <th></th>\n",
              "      <th>name</th>\n",
              "      <th>ingredients</th>\n",
              "      <th>diet</th>\n",
              "      <th>prep_time</th>\n",
              "      <th>cook_time</th>\n",
              "      <th>flavor_profile</th>\n",
              "      <th>course</th>\n",
              "      <th>state</th>\n",
              "      <th>region</th>\n",
              "    </tr>\n",
              "  </thead>\n",
              "  <tbody>\n",
              "    <tr>\n",
              "      <th>1</th>\n",
              "      <td>Balu shahi</td>\n",
              "      <td>Maida flour, yogurt, oil, sugar</td>\n",
              "      <td>vegetarian</td>\n",
              "      <td>45</td>\n",
              "      <td>25</td>\n",
              "      <td>sweet</td>\n",
              "      <td>dessert</td>\n",
              "      <td>West Bengal</td>\n",
              "      <td>East</td>\n",
              "    </tr>\n",
              "    <tr>\n",
              "      <th>2</th>\n",
              "      <td>Boondi</td>\n",
              "      <td>Gram flour, ghee, sugar</td>\n",
              "      <td>vegetarian</td>\n",
              "      <td>80</td>\n",
              "      <td>30</td>\n",
              "      <td>sweet</td>\n",
              "      <td>dessert</td>\n",
              "      <td>Rajasthan</td>\n",
              "      <td>West</td>\n",
              "    </tr>\n",
              "  </tbody>\n",
              "</table>\n",
              "</div>"
            ],
            "text/plain": [
              "0        name                      ingredients  ...        state region\n",
              "1  Balu shahi  Maida flour, yogurt, oil, sugar  ...  West Bengal   East\n",
              "2      Boondi          Gram flour, ghee, sugar  ...    Rajasthan   West\n",
              "\n",
              "[2 rows x 9 columns]"
            ]
          },
          "metadata": {
            "tags": []
          },
          "execution_count": 9
        }
      ]
    },
    {
      "cell_type": "code",
      "metadata": {
        "id": "0tAhbZbWQ7KY",
        "colab": {
          "base_uri": "https://localhost:8080/"
        },
        "outputId": "2e27429a-3fba-4fad-ae04-d4876544a40c"
      },
      "source": [
        "# Describe Data Frame Series General Info\n",
        "name = 'course'\n",
        "df[name].describe()"
      ],
      "execution_count": 10,
      "outputs": [
        {
          "output_type": "execute_result",
          "data": {
            "text/plain": [
              "count             255\n",
              "unique              4\n",
              "top       main course\n",
              "freq              129\n",
              "Name: course, dtype: object"
            ]
          },
          "metadata": {
            "tags": []
          },
          "execution_count": 10
        }
      ]
    },
    {
      "cell_type": "code",
      "metadata": {
        "id": "g7GH0ugDMqhM",
        "colab": {
          "base_uri": "https://localhost:8080/"
        },
        "outputId": "9593ecb0-597e-4572-a5d5-c2d2f53f4eb6"
      },
      "source": [
        "# Obtain Data Frame Series Unique Values\n",
        "name = 'course'\n",
        "df[name].unique()"
      ],
      "execution_count": 11,
      "outputs": [
        {
          "output_type": "execute_result",
          "data": {
            "text/plain": [
              "array(['dessert', 'main course', 'starter', 'snack'], dtype=object)"
            ]
          },
          "metadata": {
            "tags": []
          },
          "execution_count": 11
        }
      ]
    },
    {
      "cell_type": "code",
      "metadata": {
        "id": "IJEq3wCpSIc-"
      },
      "source": [
        "# Transform Column Type from Object to int32\n",
        "df['prep_time'] = df['prep_time'].astype({'prep_time': 'int32'})"
      ],
      "execution_count": 12,
      "outputs": []
    },
    {
      "cell_type": "code",
      "metadata": {
        "id": "he8P-gI3NkgU",
        "colab": {
          "base_uri": "https://localhost:8080/"
        },
        "outputId": "e4880430-fea5-4614-e1ea-17fd82009cec"
      },
      "source": [
        "# Check again Data Frame Series General Info\n",
        "name = 'prep_time'\n",
        "df[name].describe()"
      ],
      "execution_count": 13,
      "outputs": [
        {
          "output_type": "execute_result",
          "data": {
            "text/plain": [
              "count    255.000000\n",
              "mean      31.105882\n",
              "std       72.554409\n",
              "min       -1.000000\n",
              "25%       10.000000\n",
              "50%       10.000000\n",
              "75%       20.000000\n",
              "max      500.000000\n",
              "Name: prep_time, dtype: float64"
            ]
          },
          "metadata": {
            "tags": []
          },
          "execution_count": 13
        }
      ]
    },
    {
      "cell_type": "code",
      "metadata": {
        "id": "ifG8YevxY_0E"
      },
      "source": [
        "# Function Casting Column Type\n",
        "def cast_type(data_frame, column_name, type_name):\n",
        "  data_frame[column_name] = data_frame[column_name].astype({column_name:type_name}) \n",
        "  print(column_name + ':ok')"
      ],
      "execution_count": 14,
      "outputs": []
    },
    {
      "cell_type": "code",
      "metadata": {
        "id": "6ONsv87NaAbC",
        "colab": {
          "base_uri": "https://localhost:8080/"
        },
        "outputId": "9b0184c8-e111-4c0e-a309-bd99e60d501b"
      },
      "source": [
        "# Function Run\n",
        "column_name = 'cook_time'\n",
        "cast_type(df, column_name, 'int32')\n",
        "df[column_name].describe()"
      ],
      "execution_count": 15,
      "outputs": [
        {
          "output_type": "stream",
          "text": [
            "cook_time:ok\n"
          ],
          "name": "stdout"
        },
        {
          "output_type": "execute_result",
          "data": {
            "text/plain": [
              "count    255.000000\n",
              "mean      34.529412\n",
              "std       48.265650\n",
              "min       -1.000000\n",
              "25%       20.000000\n",
              "50%       30.000000\n",
              "75%       40.000000\n",
              "max      720.000000\n",
              "Name: cook_time, dtype: float64"
            ]
          },
          "metadata": {
            "tags": []
          },
          "execution_count": 15
        }
      ]
    },
    {
      "cell_type": "code",
      "metadata": {
        "colab": {
          "base_uri": "https://localhost:8080/"
        },
        "id": "z9UbZQWCckwE",
        "outputId": "b806df4b-1776-4140-9bff-26938c1a1397"
      },
      "source": [
        "# Dataframe with float files\r\n",
        "_df_ = pd.DataFrame()\r\n",
        "_df_['File'] = np.random.random_sample((3))\r\n",
        "# Turn float to object\r\n",
        "rowIndex = 0\r\n",
        "_df_.loc[rowIndex, 'File'] = 'Rand'\r\n",
        "_df_.info()\r\n",
        "# Turn object to float\r\n",
        "header = _df_.iloc[0]        # Grab the first row for the header\r\n",
        "_df_  = _df_[1:]            # Take the data less the header row\r\n",
        "_df_.columns = header        # Set the header row as the df header\r\n",
        "column_name = 'Rand'\r\n",
        "cast_type(_df_, column_name, 'float')\r\n",
        "print('======================================')\r\n",
        "_df_.info()"
      ],
      "execution_count": 16,
      "outputs": [
        {
          "output_type": "stream",
          "text": [
            "<class 'pandas.core.frame.DataFrame'>\n",
            "RangeIndex: 3 entries, 0 to 2\n",
            "Data columns (total 1 columns):\n",
            " #   Column  Non-Null Count  Dtype \n",
            "---  ------  --------------  ----- \n",
            " 0   File    3 non-null      object\n",
            "dtypes: object(1)\n",
            "memory usage: 152.0+ bytes\n",
            "Rand:ok\n",
            "======================================\n",
            "<class 'pandas.core.frame.DataFrame'>\n",
            "RangeIndex: 2 entries, 1 to 2\n",
            "Data columns (total 1 columns):\n",
            " #   Column  Non-Null Count  Dtype  \n",
            "---  ------  --------------  -----  \n",
            " 0   Rand    2 non-null      float64\n",
            "dtypes: float64(1)\n",
            "memory usage: 148.0 bytes\n"
          ],
          "name": "stdout"
        }
      ]
    },
    {
      "cell_type": "code",
      "metadata": {
        "id": "-ozG8sFBcExr",
        "colab": {
          "base_uri": "https://localhost:8080/",
          "height": 294
        },
        "outputId": "d02f2413-8bd4-44cc-ab9b-a92ae8ee4ff8"
      },
      "source": [
        "# Data Numerical Columns 'Simple' Stats\n",
        "df.describe()"
      ],
      "execution_count": 17,
      "outputs": [
        {
          "output_type": "execute_result",
          "data": {
            "text/html": [
              "<div>\n",
              "<style scoped>\n",
              "    .dataframe tbody tr th:only-of-type {\n",
              "        vertical-align: middle;\n",
              "    }\n",
              "\n",
              "    .dataframe tbody tr th {\n",
              "        vertical-align: top;\n",
              "    }\n",
              "\n",
              "    .dataframe thead th {\n",
              "        text-align: right;\n",
              "    }\n",
              "</style>\n",
              "<table border=\"1\" class=\"dataframe\">\n",
              "  <thead>\n",
              "    <tr style=\"text-align: right;\">\n",
              "      <th></th>\n",
              "      <th>prep_time</th>\n",
              "      <th>cook_time</th>\n",
              "    </tr>\n",
              "  </thead>\n",
              "  <tbody>\n",
              "    <tr>\n",
              "      <th>count</th>\n",
              "      <td>255.000000</td>\n",
              "      <td>255.000000</td>\n",
              "    </tr>\n",
              "    <tr>\n",
              "      <th>mean</th>\n",
              "      <td>31.105882</td>\n",
              "      <td>34.529412</td>\n",
              "    </tr>\n",
              "    <tr>\n",
              "      <th>std</th>\n",
              "      <td>72.554409</td>\n",
              "      <td>48.265650</td>\n",
              "    </tr>\n",
              "    <tr>\n",
              "      <th>min</th>\n",
              "      <td>-1.000000</td>\n",
              "      <td>-1.000000</td>\n",
              "    </tr>\n",
              "    <tr>\n",
              "      <th>25%</th>\n",
              "      <td>10.000000</td>\n",
              "      <td>20.000000</td>\n",
              "    </tr>\n",
              "    <tr>\n",
              "      <th>50%</th>\n",
              "      <td>10.000000</td>\n",
              "      <td>30.000000</td>\n",
              "    </tr>\n",
              "    <tr>\n",
              "      <th>75%</th>\n",
              "      <td>20.000000</td>\n",
              "      <td>40.000000</td>\n",
              "    </tr>\n",
              "    <tr>\n",
              "      <th>max</th>\n",
              "      <td>500.000000</td>\n",
              "      <td>720.000000</td>\n",
              "    </tr>\n",
              "  </tbody>\n",
              "</table>\n",
              "</div>"
            ],
            "text/plain": [
              "0       prep_time   cook_time\n",
              "count  255.000000  255.000000\n",
              "mean    31.105882   34.529412\n",
              "std     72.554409   48.265650\n",
              "min     -1.000000   -1.000000\n",
              "25%     10.000000   20.000000\n",
              "50%     10.000000   30.000000\n",
              "75%     20.000000   40.000000\n",
              "max    500.000000  720.000000"
            ]
          },
          "metadata": {
            "tags": []
          },
          "execution_count": 17
        }
      ]
    },
    {
      "cell_type": "code",
      "metadata": {
        "id": "Xy4ib4WNcqw9",
        "colab": {
          "base_uri": "https://localhost:8080/",
          "height": 171
        },
        "outputId": "ae1891a4-4130-4b2e-9b8b-adce63e73e61"
      },
      "source": [
        "# Data Categorical Columns 'Simple' Stats\n",
        "df.describe(include=['O'])"
      ],
      "execution_count": 18,
      "outputs": [
        {
          "output_type": "execute_result",
          "data": {
            "text/html": [
              "<div>\n",
              "<style scoped>\n",
              "    .dataframe tbody tr th:only-of-type {\n",
              "        vertical-align: middle;\n",
              "    }\n",
              "\n",
              "    .dataframe tbody tr th {\n",
              "        vertical-align: top;\n",
              "    }\n",
              "\n",
              "    .dataframe thead th {\n",
              "        text-align: right;\n",
              "    }\n",
              "</style>\n",
              "<table border=\"1\" class=\"dataframe\">\n",
              "  <thead>\n",
              "    <tr style=\"text-align: right;\">\n",
              "      <th></th>\n",
              "      <th>name</th>\n",
              "      <th>ingredients</th>\n",
              "      <th>diet</th>\n",
              "      <th>flavor_profile</th>\n",
              "      <th>course</th>\n",
              "      <th>state</th>\n",
              "      <th>region</th>\n",
              "    </tr>\n",
              "  </thead>\n",
              "  <tbody>\n",
              "    <tr>\n",
              "      <th>count</th>\n",
              "      <td>255</td>\n",
              "      <td>255</td>\n",
              "      <td>255</td>\n",
              "      <td>255</td>\n",
              "      <td>255</td>\n",
              "      <td>255</td>\n",
              "      <td>255</td>\n",
              "    </tr>\n",
              "    <tr>\n",
              "      <th>unique</th>\n",
              "      <td>255</td>\n",
              "      <td>252</td>\n",
              "      <td>2</td>\n",
              "      <td>5</td>\n",
              "      <td>4</td>\n",
              "      <td>25</td>\n",
              "      <td>8</td>\n",
              "    </tr>\n",
              "    <tr>\n",
              "      <th>top</th>\n",
              "      <td>Papadum</td>\n",
              "      <td>Gram flour, ghee, sugar</td>\n",
              "      <td>vegetarian</td>\n",
              "      <td>spicy</td>\n",
              "      <td>main course</td>\n",
              "      <td>Gujarat</td>\n",
              "      <td>West</td>\n",
              "    </tr>\n",
              "    <tr>\n",
              "      <th>freq</th>\n",
              "      <td>1</td>\n",
              "      <td>2</td>\n",
              "      <td>226</td>\n",
              "      <td>133</td>\n",
              "      <td>129</td>\n",
              "      <td>35</td>\n",
              "      <td>74</td>\n",
              "    </tr>\n",
              "  </tbody>\n",
              "</table>\n",
              "</div>"
            ],
            "text/plain": [
              "0          name              ingredients  ...    state region\n",
              "count       255                      255  ...      255    255\n",
              "unique      255                      252  ...       25      8\n",
              "top     Papadum  Gram flour, ghee, sugar  ...  Gujarat   West\n",
              "freq          1                        2  ...       35     74\n",
              "\n",
              "[4 rows x 7 columns]"
            ]
          },
          "metadata": {
            "tags": []
          },
          "execution_count": 18
        }
      ]
    },
    {
      "cell_type": "code",
      "metadata": {
        "id": "rlzU8DPNdB5t"
      },
      "source": [
        "# Replace -1 values to np.nan values in specific column data frame\n",
        "import numpy as np\n",
        "df_rp = df.copy(deep = True)\n",
        "df_rp['cook_time_none'] = df_rp['cook_time'].replace(to_replace = -1,\n",
        "                                                          value = np.nan,\n",
        "                                                        inplace = False)"
      ],
      "execution_count": 19,
      "outputs": []
    },
    {
      "cell_type": "code",
      "metadata": {
        "id": "upyem2ULTCey",
        "colab": {
          "base_uri": "https://localhost:8080/"
        },
        "outputId": "435e0781-20f8-467a-d150-e07ae38e2dfa"
      },
      "source": [
        "# Source Dataframe Info\n",
        "df.info()"
      ],
      "execution_count": 20,
      "outputs": [
        {
          "output_type": "stream",
          "text": [
            "<class 'pandas.core.frame.DataFrame'>\n",
            "RangeIndex: 255 entries, 1 to 255\n",
            "Data columns (total 9 columns):\n",
            " #   Column          Non-Null Count  Dtype \n",
            "---  ------          --------------  ----- \n",
            " 0   name            255 non-null    object\n",
            " 1   ingredients     255 non-null    object\n",
            " 2   diet            255 non-null    object\n",
            " 3   prep_time       255 non-null    int32 \n",
            " 4   cook_time       255 non-null    int32 \n",
            " 5   flavor_profile  255 non-null    object\n",
            " 6   course          255 non-null    object\n",
            " 7   state           255 non-null    object\n",
            " 8   region          255 non-null    object\n",
            "dtypes: int32(2), object(7)\n",
            "memory usage: 16.1+ KB\n"
          ],
          "name": "stdout"
        }
      ]
    },
    {
      "cell_type": "code",
      "metadata": {
        "id": "iKAmu_Cgy4hd",
        "colab": {
          "base_uri": "https://localhost:8080/"
        },
        "outputId": "d4d0370d-2983-4c17-e750-b9b43aa538f0"
      },
      "source": [
        "# Current Dataframe Info after -1 values replace to NaN\n",
        "df_rp.info()"
      ],
      "execution_count": 21,
      "outputs": [
        {
          "output_type": "stream",
          "text": [
            "<class 'pandas.core.frame.DataFrame'>\n",
            "RangeIndex: 255 entries, 1 to 255\n",
            "Data columns (total 10 columns):\n",
            " #   Column          Non-Null Count  Dtype  \n",
            "---  ------          --------------  -----  \n",
            " 0   name            255 non-null    object \n",
            " 1   ingredients     255 non-null    object \n",
            " 2   diet            255 non-null    object \n",
            " 3   prep_time       255 non-null    int32  \n",
            " 4   cook_time       255 non-null    int32  \n",
            " 5   flavor_profile  255 non-null    object \n",
            " 6   course          255 non-null    object \n",
            " 7   state           255 non-null    object \n",
            " 8   region          255 non-null    object \n",
            " 9   cook_time_none  227 non-null    float64\n",
            "dtypes: float64(1), int32(2), object(7)\n",
            "memory usage: 18.1+ KB\n"
          ],
          "name": "stdout"
        }
      ]
    },
    {
      "cell_type": "code",
      "metadata": {
        "id": "zdsnhJH9-Mci"
      },
      "source": [
        "# Replace -1 Values to np.nan values in Dataframe\n",
        "import numpy as np\n",
        "df_rp = df.copy(deep = True)\n",
        "df_rp.replace(to_replace = [-1, '-1'],\n",
        "                   value = np.nan,\n",
        "                 inplace = True)"
      ],
      "execution_count": 22,
      "outputs": []
    },
    {
      "cell_type": "code",
      "metadata": {
        "id": "KiGwoYFt4AxD",
        "colab": {
          "base_uri": "https://localhost:8080/"
        },
        "outputId": "ac340164-38be-4e01-9016-1dbe9c2b226e"
      },
      "source": [
        "# Count NaN rows in Dataframe\n",
        "name = 'state'\n",
        "s = df_rp.loc[df_rp[name].isna()]\n",
        "len(s.index)"
      ],
      "execution_count": 23,
      "outputs": [
        {
          "output_type": "execute_result",
          "data": {
            "text/plain": [
              "24"
            ]
          },
          "metadata": {
            "tags": []
          },
          "execution_count": 23
        }
      ]
    },
    {
      "cell_type": "markdown",
      "metadata": {
        "id": "xxGO31wA8qfB"
      },
      "source": [
        "# MISSING VALUES REPLACEMENT"
      ]
    },
    {
      "cell_type": "code",
      "metadata": {
        "id": "Hnrrw9AC-mrw"
      },
      "source": [
        "# Function replaces np.nan values in all data frame with relevant statistics (mean, mode)\n",
        "def rep_missings(data_frame):\n",
        "    d = data_frame.copy(deep = True)\n",
        "    for c in data_frame:\n",
        "        if (data_frame[c].dtype == 'int32'):\n",
        "            if data_frame[c].isnull().values.any():\n",
        "                m = data_frame[c].dropna().mean()\n",
        "                d[c].fillna(m, inplace = True)\n",
        "        else:   \n",
        "            if data_frame[c].isnull().values.any():\n",
        "              m = data_frame[c].dropna().mode()[0]\n",
        "              d[c].fillna(m, inplace = True)              \n",
        "    return d"
      ],
      "execution_count": 24,
      "outputs": []
    },
    {
      "cell_type": "code",
      "metadata": {
        "id": "LENHTDVo_oDj"
      },
      "source": [
        "# Replace np.nan values in all data frame with relevant statistics (mean, mode)\n",
        "df_rp = rep_missings(df_rp)"
      ],
      "execution_count": 25,
      "outputs": []
    },
    {
      "cell_type": "code",
      "metadata": {
        "id": "xNgyjOBErE1T",
        "colab": {
          "base_uri": "https://localhost:8080/"
        },
        "outputId": "d6a44f10-bcd4-4fe2-a020-6a696d239116"
      },
      "source": [
        "name = 'region'\n",
        "a = df_rp[name].unique()\n",
        "a\n",
        "# a[0]\n",
        "# a[a.size - 1]"
      ],
      "execution_count": 26,
      "outputs": [
        {
          "output_type": "execute_result",
          "data": {
            "text/plain": [
              "array(['East', 'West', 'North', 'North East', 'South', 'Central', ''],\n",
              "      dtype=object)"
            ]
          },
          "metadata": {
            "tags": []
          },
          "execution_count": 26
        }
      ]
    },
    {
      "cell_type": "markdown",
      "metadata": {
        "id": "z7HvgaMspEvY"
      },
      "source": [
        "# EXPORT FILE TO DRIVE"
      ]
    },
    {
      "cell_type": "code",
      "metadata": {
        "id": "FVQHjpUSlKAy",
        "colab": {
          "base_uri": "https://localhost:8080/"
        },
        "outputId": "73b2e1fe-dc49-42e3-b3a9-e8b2e7bb6464"
      },
      "source": [
        "# Mount Google drive in Google Collab\n",
        "from google.colab import drive\n",
        "drive.mount('/drive')"
      ],
      "execution_count": 27,
      "outputs": [
        {
          "output_type": "stream",
          "text": [
            "Drive already mounted at /drive; to attempt to forcibly remount, call drive.mount(\"/drive\", force_remount=True).\n"
          ],
          "name": "stdout"
        }
      ]
    },
    {
      "cell_type": "code",
      "metadata": {
        "id": "1V3hxWu0njGn",
        "colab": {
          "base_uri": "https://localhost:8080/"
        },
        "outputId": "3eac534c-860c-4648-a3f7-905fb10cd52a"
      },
      "source": [
        "# Export data_frame into Google drive in comma separated format\n",
        "df_rp.to_csv('/drive/My Drive/indian_food_nulls.csv')\n",
        "print(\"File was exported succesfully.\")"
      ],
      "execution_count": 28,
      "outputs": [
        {
          "output_type": "stream",
          "text": [
            "File was exported succesfully.\n"
          ],
          "name": "stdout"
        }
      ]
    },
    {
      "cell_type": "markdown",
      "metadata": {
        "id": "7xnuKk1b8dDW"
      },
      "source": [
        "# BI DASHBOARDS OPTIMIZATION"
      ]
    },
    {
      "cell_type": "code",
      "metadata": {
        "id": "66mRUifO8YTD",
        "colab": {
          "base_uri": "https://localhost:8080/",
          "height": 35
        },
        "outputId": "6ca669af-a544-4890-cfb9-0b70421c1ea8"
      },
      "source": [
        "name = 'region'\n",
        "a = df_rp[name].unique()\n",
        "a[2]"
      ],
      "execution_count": 29,
      "outputs": [
        {
          "output_type": "execute_result",
          "data": {
            "application/vnd.google.colaboratory.intrinsic+json": {
              "type": "string"
            },
            "text/plain": [
              "'North'"
            ]
          },
          "metadata": {
            "tags": []
          },
          "execution_count": 29
        }
      ]
    },
    {
      "cell_type": "code",
      "metadata": {
        "id": "c1LP_bR4w2Nm"
      },
      "source": [
        "# BI INSIGHTS ROBOT\n",
        "def bi_robot(dataframe, dimensions, measure):\n",
        "  # Student WORK \n",
        "  # Lecturer first preparations, hints and thoughts\n",
        "  # This function needs to return anomalous tuples which can be serve\n",
        "  # as default values in BI dashboards and further BI dashboards conclusions\n",
        "  t = {}\n",
        "  for d in dimensions:\n",
        "    du = dataframe[d].unique() \n",
        "    t[d] = du[0] \n",
        "\n",
        "  for v in t:\n",
        "    key       = v\n",
        "    value     = [t[v]]\n",
        "    dataframe = dataframe.loc[dataframe[key].isin(value)] \n",
        "    stat      = dataframe[measure].mean() \n",
        "  \n",
        "  print('---------------------')\n",
        "  print(t, end = '')  \n",
        "  print(' Mean:' + \"{:.2f}\".format(stat))\n",
        "  print('---------------------')\n",
        "  return t\n"
      ],
      "execution_count": 30,
      "outputs": []
    },
    {
      "cell_type": "code",
      "metadata": {
        "colab": {
          "base_uri": "https://localhost:8080/"
        },
        "id": "3Z0mM-yEyEgE",
        "outputId": "339caa75-cdd2-4a53-cde2-8efc4970397a"
      },
      "source": [
        "df         = df_rp.copy(deep = True)\n",
        "filters    = ['diet', 'course']\n",
        "measure    = 'prep_time'\n",
        "df = bi_robot(df, filters, measure)\n",
        "df"
      ],
      "execution_count": 31,
      "outputs": [
        {
          "output_type": "stream",
          "text": [
            "---------------------\n",
            "{'diet': 'vegetarian', 'course': 'dessert'} Mean:28.08\n",
            "---------------------\n"
          ],
          "name": "stdout"
        },
        {
          "output_type": "execute_result",
          "data": {
            "text/plain": [
              "{'course': 'dessert', 'diet': 'vegetarian'}"
            ]
          },
          "metadata": {
            "tags": []
          },
          "execution_count": 31
        }
      ]
    }
  ]
}