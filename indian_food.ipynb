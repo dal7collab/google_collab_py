{
  "nbformat": 4,
  "nbformat_minor": 0,
  "metadata": {
    "colab": {
      "name": "indian_food.ipynb",
      "provenance": [],
      "authorship_tag": "ABX9TyN46g1gFtWQ+NAY2eNHlPFj",
      "include_colab_link": true
    },
    "kernelspec": {
      "name": "python3",
      "display_name": "Python 3"
    }
  },
  "cells": [
    {
      "cell_type": "markdown",
      "metadata": {
        "id": "view-in-github",
        "colab_type": "text"
      },
      "source": [
        "<a href=\"https://colab.research.google.com/github/dal7collab/google_collab_py/blob/main/indian_food.ipynb\" target=\"_parent\"><img src=\"https://colab.research.google.com/assets/colab-badge.svg\" alt=\"Open In Colab\"/></a>"
      ]
    },
    {
      "cell_type": "code",
      "metadata": {
        "id": "6W-_D4YpGW8I"
      },
      "source": [
        "# Google User Authentication\n",
        "from google.colab import auth\n",
        "auth.authenticate_user()"
      ],
      "execution_count": 24,
      "outputs": []
    },
    {
      "cell_type": "code",
      "metadata": {
        "id": "w1UyNt5TJk8_"
      },
      "source": [
        "# Google Credentials Authentication\n",
        "import gspread\n",
        "from oauth2client.client import GoogleCredentials\n",
        "gc = gspread.authorize(GoogleCredentials.get_application_default())"
      ],
      "execution_count": 25,
      "outputs": []
    },
    {
      "cell_type": "code",
      "metadata": {
        "id": "YYG8iOUMIWBq",
        "outputId": "552d9b6d-b9a0-4211-e8b9-79a8d4ef6e5b",
        "colab": {
          "base_uri": "https://localhost:8080/"
        }
      },
      "source": [
        "# Import Google Sheet into Google Collab Data Object\n",
        "cn = gc.open('indian_food').sheet1\n",
        "sh = cn.get_all_values()\n",
        "print(sh[0:1])"
      ],
      "execution_count": 26,
      "outputs": [
        {
          "output_type": "stream",
          "text": [
            "[['name', 'ingredients', 'diet', 'prep_time', 'cook_time', 'flavor_profile', 'course', 'state', 'region']]\n"
          ],
          "name": "stdout"
        }
      ]
    },
    {
      "cell_type": "code",
      "metadata": {
        "id": "uy4o4eGvJSDa"
      },
      "source": [
        "# Convert Google Sheet into Pandas Data Frame\n",
        "import pandas as pd\n",
        "df_sh = pd.DataFrame.from_records(sh)"
      ],
      "execution_count": 27,
      "outputs": []
    },
    {
      "cell_type": "code",
      "metadata": {
        "id": "0_oDpfkGNwAr"
      },
      "source": [
        "# Convert First Row into Header\n",
        "header = df_sh.iloc[0]        # Grab the first row for the header\n",
        "df_sh  = df_sh[1:]            # Take the data less the header row\n",
        "df_sh.columns = header        # Set the header row as the df header"
      ],
      "execution_count": 28,
      "outputs": []
    },
    {
      "cell_type": "code",
      "metadata": {
        "id": "ZVC2M9EkPcBb"
      },
      "source": [
        "# Copy Data Frame\n",
        "df = df_sh.copy(deep = True)"
      ],
      "execution_count": 29,
      "outputs": []
    },
    {
      "cell_type": "code",
      "metadata": {
        "id": "G2iE48gkLTWf",
        "outputId": "4cfedc99-7a9f-4298-8e19-5c58347a09bb",
        "colab": {
          "base_uri": "https://localhost:8080/"
        }
      },
      "source": [
        "# Obtain Data Frame General Info \n",
        "# Column names, Missing values, Data types\n",
        "df.info()"
      ],
      "execution_count": 30,
      "outputs": [
        {
          "output_type": "stream",
          "text": [
            "<class 'pandas.core.frame.DataFrame'>\n",
            "RangeIndex: 255 entries, 1 to 255\n",
            "Data columns (total 9 columns):\n",
            " #   Column          Non-Null Count  Dtype \n",
            "---  ------          --------------  ----- \n",
            " 0   name            255 non-null    object\n",
            " 1   ingredients     255 non-null    object\n",
            " 2   diet            255 non-null    object\n",
            " 3   prep_time       255 non-null    object\n",
            " 4   cook_time       255 non-null    object\n",
            " 5   flavor_profile  255 non-null    object\n",
            " 6   course          255 non-null    object\n",
            " 7   state           255 non-null    object\n",
            " 8   region          255 non-null    object\n",
            "dtypes: object(9)\n",
            "memory usage: 18.1+ KB\n"
          ],
          "name": "stdout"
        }
      ]
    },
    {
      "cell_type": "code",
      "metadata": {
        "id": "V6I0qMAPX9vs",
        "outputId": "bb4ad5de-2b7e-4730-cce5-13ea3f653738",
        "colab": {
          "base_uri": "https://localhost:8080/",
          "height": 202
        }
      },
      "source": [
        "# Retrieve First n (5) Rows\n",
        "n = 5\n",
        "df.head(n)\n",
        "# df.tail(n)"
      ],
      "execution_count": 31,
      "outputs": [
        {
          "output_type": "execute_result",
          "data": {
            "text/html": [
              "<div>\n",
              "<style scoped>\n",
              "    .dataframe tbody tr th:only-of-type {\n",
              "        vertical-align: middle;\n",
              "    }\n",
              "\n",
              "    .dataframe tbody tr th {\n",
              "        vertical-align: top;\n",
              "    }\n",
              "\n",
              "    .dataframe thead th {\n",
              "        text-align: right;\n",
              "    }\n",
              "</style>\n",
              "<table border=\"1\" class=\"dataframe\">\n",
              "  <thead>\n",
              "    <tr style=\"text-align: right;\">\n",
              "      <th></th>\n",
              "      <th>name</th>\n",
              "      <th>ingredients</th>\n",
              "      <th>diet</th>\n",
              "      <th>prep_time</th>\n",
              "      <th>cook_time</th>\n",
              "      <th>flavor_profile</th>\n",
              "      <th>course</th>\n",
              "      <th>state</th>\n",
              "      <th>region</th>\n",
              "    </tr>\n",
              "  </thead>\n",
              "  <tbody>\n",
              "    <tr>\n",
              "      <th>1</th>\n",
              "      <td>Balu shahi</td>\n",
              "      <td>Maida flour, yogurt, oil, sugar</td>\n",
              "      <td>vegetarian</td>\n",
              "      <td>45</td>\n",
              "      <td>25</td>\n",
              "      <td>sweet</td>\n",
              "      <td>dessert</td>\n",
              "      <td>West Bengal</td>\n",
              "      <td>East</td>\n",
              "    </tr>\n",
              "    <tr>\n",
              "      <th>2</th>\n",
              "      <td>Boondi</td>\n",
              "      <td>Gram flour, ghee, sugar</td>\n",
              "      <td>vegetarian</td>\n",
              "      <td>80</td>\n",
              "      <td>30</td>\n",
              "      <td>sweet</td>\n",
              "      <td>dessert</td>\n",
              "      <td>Rajasthan</td>\n",
              "      <td>West</td>\n",
              "    </tr>\n",
              "    <tr>\n",
              "      <th>3</th>\n",
              "      <td>Gajar ka halwa</td>\n",
              "      <td>Carrots, milk, sugar, ghee, cashews, raisins</td>\n",
              "      <td>vegetarian</td>\n",
              "      <td>15</td>\n",
              "      <td>60</td>\n",
              "      <td>sweet</td>\n",
              "      <td>dessert</td>\n",
              "      <td>Punjab</td>\n",
              "      <td>North</td>\n",
              "    </tr>\n",
              "    <tr>\n",
              "      <th>4</th>\n",
              "      <td>Ghevar</td>\n",
              "      <td>Flour, ghee, kewra, milk, clarified butter, su...</td>\n",
              "      <td>vegetarian</td>\n",
              "      <td>15</td>\n",
              "      <td>30</td>\n",
              "      <td>sweet</td>\n",
              "      <td>dessert</td>\n",
              "      <td>Rajasthan</td>\n",
              "      <td>West</td>\n",
              "    </tr>\n",
              "    <tr>\n",
              "      <th>5</th>\n",
              "      <td>Gulab jamun</td>\n",
              "      <td>Milk powder, plain flour, baking powder, ghee,...</td>\n",
              "      <td>vegetarian</td>\n",
              "      <td>15</td>\n",
              "      <td>40</td>\n",
              "      <td>sweet</td>\n",
              "      <td>dessert</td>\n",
              "      <td>West Bengal</td>\n",
              "      <td>East</td>\n",
              "    </tr>\n",
              "  </tbody>\n",
              "</table>\n",
              "</div>"
            ],
            "text/plain": [
              "0            name  ... region\n",
              "1      Balu shahi  ...   East\n",
              "2          Boondi  ...   West\n",
              "3  Gajar ka halwa  ...  North\n",
              "4          Ghevar  ...   West\n",
              "5     Gulab jamun  ...   East\n",
              "\n",
              "[5 rows x 9 columns]"
            ]
          },
          "metadata": {
            "tags": []
          },
          "execution_count": 31
        }
      ]
    },
    {
      "cell_type": "code",
      "metadata": {
        "id": "0tAhbZbWQ7KY",
        "outputId": "53ffd35b-b451-4e7a-a467-f444ec92c689",
        "colab": {
          "base_uri": "https://localhost:8080/"
        }
      },
      "source": [
        "# Describe Data Frame General Info\n",
        "df['prep_time'].describe()"
      ],
      "execution_count": 32,
      "outputs": [
        {
          "output_type": "execute_result",
          "data": {
            "text/plain": [
              "count     255\n",
              "unique     22\n",
              "top        10\n",
              "freq       98\n",
              "Name: prep_time, dtype: object"
            ]
          },
          "metadata": {
            "tags": []
          },
          "execution_count": 32
        }
      ]
    },
    {
      "cell_type": "code",
      "metadata": {
        "id": "IJEq3wCpSIc-"
      },
      "source": [
        "# Cast Column Type\n",
        "df['prep_time'] = df['prep_time'].astype({'prep_time': 'int32'})"
      ],
      "execution_count": 33,
      "outputs": []
    },
    {
      "cell_type": "code",
      "metadata": {
        "id": "ifG8YevxY_0E"
      },
      "source": [
        "# Function Casting Column Type\n",
        "def cast_type(data_frame, column_name, type_name):\n",
        "  data_frame[column_name] = data_frame[column_name].astype({column_name:type_name}) \n",
        "  print(column_name + \":ok\")"
      ],
      "execution_count": 58,
      "outputs": []
    },
    {
      "cell_type": "code",
      "metadata": {
        "id": "6ONsv87NaAbC",
        "outputId": "a2c505d5-bb23-40ca-9d15-f83096095785",
        "colab": {
          "base_uri": "https://localhost:8080/"
        }
      },
      "source": [
        "# Function Launch\n",
        "column_name = 'cook_time'\n",
        "cast_type(df,column_name,'int32')\n",
        "df[column_name].describe()"
      ],
      "execution_count": 59,
      "outputs": [
        {
          "output_type": "stream",
          "text": [
            "cook_time:ok\n"
          ],
          "name": "stdout"
        },
        {
          "output_type": "execute_result",
          "data": {
            "text/plain": [
              "count    255.000000\n",
              "mean      34.529412\n",
              "std       48.265650\n",
              "min       -1.000000\n",
              "25%       20.000000\n",
              "50%       30.000000\n",
              "75%       40.000000\n",
              "max      720.000000\n",
              "Name: cook_time, dtype: float64"
            ]
          },
          "metadata": {
            "tags": []
          },
          "execution_count": 59
        }
      ]
    },
    {
      "cell_type": "code",
      "metadata": {
        "id": "-ozG8sFBcExr",
        "outputId": "3121c194-c729-4824-94c4-db3b977cbb13",
        "colab": {
          "base_uri": "https://localhost:8080/",
          "height": 294
        }
      },
      "source": [
        "# Data Numerical Columns 'Simple' Stats\n",
        "df.describe()"
      ],
      "execution_count": 36,
      "outputs": [
        {
          "output_type": "execute_result",
          "data": {
            "text/html": [
              "<div>\n",
              "<style scoped>\n",
              "    .dataframe tbody tr th:only-of-type {\n",
              "        vertical-align: middle;\n",
              "    }\n",
              "\n",
              "    .dataframe tbody tr th {\n",
              "        vertical-align: top;\n",
              "    }\n",
              "\n",
              "    .dataframe thead th {\n",
              "        text-align: right;\n",
              "    }\n",
              "</style>\n",
              "<table border=\"1\" class=\"dataframe\">\n",
              "  <thead>\n",
              "    <tr style=\"text-align: right;\">\n",
              "      <th></th>\n",
              "      <th>prep_time</th>\n",
              "      <th>cook_time</th>\n",
              "    </tr>\n",
              "  </thead>\n",
              "  <tbody>\n",
              "    <tr>\n",
              "      <th>count</th>\n",
              "      <td>255.000000</td>\n",
              "      <td>255.000000</td>\n",
              "    </tr>\n",
              "    <tr>\n",
              "      <th>mean</th>\n",
              "      <td>31.105882</td>\n",
              "      <td>34.529412</td>\n",
              "    </tr>\n",
              "    <tr>\n",
              "      <th>std</th>\n",
              "      <td>72.554409</td>\n",
              "      <td>48.265650</td>\n",
              "    </tr>\n",
              "    <tr>\n",
              "      <th>min</th>\n",
              "      <td>-1.000000</td>\n",
              "      <td>-1.000000</td>\n",
              "    </tr>\n",
              "    <tr>\n",
              "      <th>25%</th>\n",
              "      <td>10.000000</td>\n",
              "      <td>20.000000</td>\n",
              "    </tr>\n",
              "    <tr>\n",
              "      <th>50%</th>\n",
              "      <td>10.000000</td>\n",
              "      <td>30.000000</td>\n",
              "    </tr>\n",
              "    <tr>\n",
              "      <th>75%</th>\n",
              "      <td>20.000000</td>\n",
              "      <td>40.000000</td>\n",
              "    </tr>\n",
              "    <tr>\n",
              "      <th>max</th>\n",
              "      <td>500.000000</td>\n",
              "      <td>720.000000</td>\n",
              "    </tr>\n",
              "  </tbody>\n",
              "</table>\n",
              "</div>"
            ],
            "text/plain": [
              "0       prep_time   cook_time\n",
              "count  255.000000  255.000000\n",
              "mean    31.105882   34.529412\n",
              "std     72.554409   48.265650\n",
              "min     -1.000000   -1.000000\n",
              "25%     10.000000   20.000000\n",
              "50%     10.000000   30.000000\n",
              "75%     20.000000   40.000000\n",
              "max    500.000000  720.000000"
            ]
          },
          "metadata": {
            "tags": []
          },
          "execution_count": 36
        }
      ]
    },
    {
      "cell_type": "code",
      "metadata": {
        "id": "Xy4ib4WNcqw9",
        "outputId": "a51943f0-d187-4de2-8d07-7e3da14f68d6",
        "colab": {
          "base_uri": "https://localhost:8080/",
          "height": 171
        }
      },
      "source": [
        "# Data Categorical Columns 'Simple' Stats\n",
        "df.describe(include=['O'])"
      ],
      "execution_count": 37,
      "outputs": [
        {
          "output_type": "execute_result",
          "data": {
            "text/html": [
              "<div>\n",
              "<style scoped>\n",
              "    .dataframe tbody tr th:only-of-type {\n",
              "        vertical-align: middle;\n",
              "    }\n",
              "\n",
              "    .dataframe tbody tr th {\n",
              "        vertical-align: top;\n",
              "    }\n",
              "\n",
              "    .dataframe thead th {\n",
              "        text-align: right;\n",
              "    }\n",
              "</style>\n",
              "<table border=\"1\" class=\"dataframe\">\n",
              "  <thead>\n",
              "    <tr style=\"text-align: right;\">\n",
              "      <th></th>\n",
              "      <th>name</th>\n",
              "      <th>ingredients</th>\n",
              "      <th>diet</th>\n",
              "      <th>flavor_profile</th>\n",
              "      <th>course</th>\n",
              "      <th>state</th>\n",
              "      <th>region</th>\n",
              "    </tr>\n",
              "  </thead>\n",
              "  <tbody>\n",
              "    <tr>\n",
              "      <th>count</th>\n",
              "      <td>255</td>\n",
              "      <td>255</td>\n",
              "      <td>255</td>\n",
              "      <td>255</td>\n",
              "      <td>255</td>\n",
              "      <td>255</td>\n",
              "      <td>255</td>\n",
              "    </tr>\n",
              "    <tr>\n",
              "      <th>unique</th>\n",
              "      <td>255</td>\n",
              "      <td>252</td>\n",
              "      <td>2</td>\n",
              "      <td>5</td>\n",
              "      <td>4</td>\n",
              "      <td>25</td>\n",
              "      <td>8</td>\n",
              "    </tr>\n",
              "    <tr>\n",
              "      <th>top</th>\n",
              "      <td>Red Rice</td>\n",
              "      <td>Arbi ke patte, sesame seeds, gur, bengal gram ...</td>\n",
              "      <td>vegetarian</td>\n",
              "      <td>spicy</td>\n",
              "      <td>main course</td>\n",
              "      <td>Gujarat</td>\n",
              "      <td>West</td>\n",
              "    </tr>\n",
              "    <tr>\n",
              "      <th>freq</th>\n",
              "      <td>1</td>\n",
              "      <td>2</td>\n",
              "      <td>226</td>\n",
              "      <td>133</td>\n",
              "      <td>129</td>\n",
              "      <td>35</td>\n",
              "      <td>74</td>\n",
              "    </tr>\n",
              "  </tbody>\n",
              "</table>\n",
              "</div>"
            ],
            "text/plain": [
              "0           name  ... region\n",
              "count        255  ...    255\n",
              "unique       255  ...      8\n",
              "top     Red Rice  ...   West\n",
              "freq           1  ...     74\n",
              "\n",
              "[4 rows x 7 columns]"
            ]
          },
          "metadata": {
            "tags": []
          },
          "execution_count": 37
        }
      ]
    },
    {
      "cell_type": "code",
      "metadata": {
        "id": "rlzU8DPNdB5t"
      },
      "source": [
        "# Replace -1 values to np.nan values in specific column data frame\n",
        "import numpy as np\n",
        "df_rp = df.copy(deep = True)\n",
        "df_rp[\"cook_time_none\"] = df_rp[\"cook_time\"].replace(to_replace = -1,\n",
        "                                                          value = np.nan,\n",
        "                                                        inplace = False)"
      ],
      "execution_count": 38,
      "outputs": []
    },
    {
      "cell_type": "code",
      "metadata": {
        "id": "iKAmu_Cgy4hd",
        "outputId": "812a31f2-1678-49ab-dfba-0663989f47af",
        "colab": {
          "base_uri": "https://localhost:8080/"
        }
      },
      "source": [
        "df_rp.info()"
      ],
      "execution_count": 39,
      "outputs": [
        {
          "output_type": "stream",
          "text": [
            "<class 'pandas.core.frame.DataFrame'>\n",
            "RangeIndex: 255 entries, 1 to 255\n",
            "Data columns (total 10 columns):\n",
            " #   Column          Non-Null Count  Dtype  \n",
            "---  ------          --------------  -----  \n",
            " 0   name            255 non-null    object \n",
            " 1   ingredients     255 non-null    object \n",
            " 2   diet            255 non-null    object \n",
            " 3   prep_time       255 non-null    int32  \n",
            " 4   cook_time       255 non-null    int32  \n",
            " 5   flavor_profile  255 non-null    object \n",
            " 6   course          255 non-null    object \n",
            " 7   state           255 non-null    object \n",
            " 8   region          255 non-null    object \n",
            " 9   cook_time_none  227 non-null    float64\n",
            "dtypes: float64(1), int32(2), object(7)\n",
            "memory usage: 18.1+ KB\n"
          ],
          "name": "stdout"
        }
      ]
    },
    {
      "cell_type": "code",
      "metadata": {
        "id": "zdsnhJH9-Mci"
      },
      "source": [
        "# Replace -1 values to np.nan values in all data frame\n",
        "import numpy as np\n",
        "df_rp = df.copy(deep = True)\n",
        "df_rp.replace(to_replace = -1,\n",
        "                   value = np.nan,\n",
        "                 inplace = True)"
      ],
      "execution_count": 40,
      "outputs": []
    },
    {
      "cell_type": "code",
      "metadata": {
        "id": "KeVOFSmRj7tx",
        "outputId": "577506a1-f17e-4ff1-c2bb-908432d2758d",
        "colab": {
          "base_uri": "https://localhost:8080/"
        }
      },
      "source": [
        "df_rp.info()"
      ],
      "execution_count": 41,
      "outputs": [
        {
          "output_type": "stream",
          "text": [
            "<class 'pandas.core.frame.DataFrame'>\n",
            "RangeIndex: 255 entries, 1 to 255\n",
            "Data columns (total 9 columns):\n",
            " #   Column          Non-Null Count  Dtype  \n",
            "---  ------          --------------  -----  \n",
            " 0   name            255 non-null    object \n",
            " 1   ingredients     255 non-null    object \n",
            " 2   diet            255 non-null    object \n",
            " 3   prep_time       225 non-null    float64\n",
            " 4   cook_time       227 non-null    float64\n",
            " 5   flavor_profile  255 non-null    object \n",
            " 6   course          255 non-null    object \n",
            " 7   state           255 non-null    object \n",
            " 8   region          255 non-null    object \n",
            "dtypes: float64(2), object(7)\n",
            "memory usage: 18.1+ KB\n"
          ],
          "name": "stdout"
        }
      ]
    },
    {
      "cell_type": "code",
      "metadata": {
        "id": "Hnrrw9AC-mrw"
      },
      "source": [
        "# Function replaces np.nan values in all data frame with relevant statistics (mean, mode)\n",
        "def rep_missings(data_frame):\n",
        "    d = data_frame.copy(deep = True)\n",
        "    for c in data_frame:\n",
        "        if (data_frame[c].dtype == 'int32'):\n",
        "            if data_frame[c].isnull().values.any():\n",
        "                m = data_frame[c].dropna().mean()\n",
        "                d[c].fillna(m, inplace = True)\n",
        "        else:          \n",
        "            if data_frame[c].isnull().values.any():\n",
        "                m = data_frame[c].dropna().mode()[0]\n",
        "                d[c].fillna(m, inplace = True)\n",
        "    return d"
      ],
      "execution_count": 42,
      "outputs": []
    },
    {
      "cell_type": "code",
      "metadata": {
        "id": "LENHTDVo_oDj"
      },
      "source": [
        "# Replace np.nan values in all data frame with relevant statistics (mean, mode)\n",
        "df_rp = rep_missings(df_rp)"
      ],
      "execution_count": 43,
      "outputs": []
    },
    {
      "cell_type": "code",
      "metadata": {
        "id": "evHW6MIHkbp9",
        "outputId": "29490631-a0f8-4e9c-a5ef-39be4ff0be66",
        "colab": {
          "base_uri": "https://localhost:8080/"
        }
      },
      "source": [
        "df_rp.info()"
      ],
      "execution_count": 44,
      "outputs": [
        {
          "output_type": "stream",
          "text": [
            "<class 'pandas.core.frame.DataFrame'>\n",
            "RangeIndex: 255 entries, 1 to 255\n",
            "Data columns (total 9 columns):\n",
            " #   Column          Non-Null Count  Dtype  \n",
            "---  ------          --------------  -----  \n",
            " 0   name            255 non-null    object \n",
            " 1   ingredients     255 non-null    object \n",
            " 2   diet            255 non-null    object \n",
            " 3   prep_time       255 non-null    float64\n",
            " 4   cook_time       255 non-null    float64\n",
            " 5   flavor_profile  255 non-null    object \n",
            " 6   course          255 non-null    object \n",
            " 7   state           255 non-null    object \n",
            " 8   region          255 non-null    object \n",
            "dtypes: float64(2), object(7)\n",
            "memory usage: 18.1+ KB\n"
          ],
          "name": "stdout"
        }
      ]
    },
    {
      "cell_type": "code",
      "metadata": {
        "id": "FVQHjpUSlKAy",
        "outputId": "8ce0e3a6-d317-4abd-dca2-497ad1fbd148",
        "colab": {
          "base_uri": "https://localhost:8080/"
        }
      },
      "source": [
        "# Mount Google drive in Google Collab\n",
        "from google.colab import drive\n",
        "drive.mount('/drive')"
      ],
      "execution_count": 45,
      "outputs": [
        {
          "output_type": "stream",
          "text": [
            "Drive already mounted at /drive; to attempt to forcibly remount, call drive.mount(\"/drive\", force_remount=True).\n"
          ],
          "name": "stdout"
        }
      ]
    },
    {
      "cell_type": "code",
      "metadata": {
        "id": "1V3hxWu0njGn"
      },
      "source": [
        "# Export data_frame into Google drive in comma separated format\n",
        "df_rp.to_csv('/drive/My Drive/indian_food_nulls.csv')"
      ],
      "execution_count": 46,
      "outputs": []
    },
    {
      "cell_type": "code",
      "metadata": {
        "id": "__cGRi-Slq7n"
      },
      "source": [
        ""
      ],
      "execution_count": 46,
      "outputs": []
    }
  ]
}