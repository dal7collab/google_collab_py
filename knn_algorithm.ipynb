{
  "nbformat": 4,
  "nbformat_minor": 0,
  "metadata": {
    "colab": {
      "name": "knn_algorithm.ipynb",
      "provenance": [],
      "authorship_tag": "ABX9TyMmWOWpMWeaffviCeeX/c4v",
      "include_colab_link": true
    },
    "kernelspec": {
      "name": "python3",
      "display_name": "Python 3"
    }
  },
  "cells": [
    {
      "cell_type": "markdown",
      "metadata": {
        "id": "view-in-github",
        "colab_type": "text"
      },
      "source": [
        "<a href=\"https://colab.research.google.com/github/dal7collab/google_collab_py/blob/main/knn_algorithm.ipynb\" target=\"_parent\"><img src=\"https://colab.research.google.com/assets/colab-badge.svg\" alt=\"Open In Colab\"/></a>"
      ]
    },
    {
      "cell_type": "code",
      "metadata": {
        "id": "2EQnodpRasMp"
      },
      "source": [
        "import pandas as pd\n",
        "import numpy  as np"
      ],
      "execution_count": null,
      "outputs": []
    },
    {
      "cell_type": "markdown",
      "metadata": {
        "id": "1uG1S9C4kzRQ"
      },
      "source": [
        "K Nearest Neighbor Classifier"
      ]
    },
    {
      "cell_type": "code",
      "metadata": {
        "id": "gpAfQjtIX6J5"
      },
      "source": [
        "x1 = [7,7,3,1]\n",
        "x2 = [7,4,4,4]\n",
        "y = ['Bad','Bad','Good','Good']\n",
        "train = pd.DataFrame(list(zip(x1, x2, y)), columns =['X1', 'X2', 'Y']) \n",
        "train_x, train_y = train[['X1','X2']], train['Y']\n",
        "train_x"
      ],
      "execution_count": null,
      "outputs": []
    },
    {
      "cell_type": "code",
      "metadata": {
        "id": "fF-JsNtTbpYq"
      },
      "source": [
        "x1 = [3,5]\n",
        "x2 = [7,4]\n",
        "y =  [np.nan, np.nan]\n",
        "test = pd.DataFrame(list(zip(x1, x2, y)), columns =['X1', 'X2', 'Y3']) \n",
        "test_x, test_y = test[['X1','X2']], test['Y3']"
      ],
      "execution_count": null,
      "outputs": []
    },
    {
      "cell_type": "code",
      "metadata": {
        "id": "3laFNaiEducW"
      },
      "source": [
        "test_x"
      ],
      "execution_count": null,
      "outputs": []
    },
    {
      "cell_type": "code",
      "metadata": {
        "id": "j0RbR-aAeAJD"
      },
      "source": [
        "from sklearn.neighbors import KNeighborsClassifier\n",
        "classifier = KNeighborsClassifier(n_neighbors=3)\n",
        "classifier.fit(train_x, train_y)"
      ],
      "execution_count": null,
      "outputs": []
    },
    {
      "cell_type": "code",
      "metadata": {
        "id": "Oidj0uHXeRCf"
      },
      "source": [
        "test_y = classifier.predict(test_x)\n",
        "test = pd.DataFrame(list(zip(x1, x2, test_y)), columns =['X1', 'X2', 'Y'])\n",
        "test"
      ],
      "execution_count": null,
      "outputs": []
    },
    {
      "cell_type": "markdown",
      "metadata": {
        "id": "hysI01_-keMP"
      },
      "source": [
        "K Nearest Neighbor Regressor"
      ]
    },
    {
      "cell_type": "code",
      "metadata": {
        "id": "hSDJYtiJhwBN"
      },
      "source": [
        "x1 = [1,1.2,3.2,4,5.1]\n",
        "y  = [23,17,12,27,8]\n",
        "train = pd.DataFrame(list(zip(x1, y)), columns =['X1', 'Y']) \n",
        "train_x, train_y = train[['X1']], train['Y']"
      ],
      "execution_count": null,
      "outputs": []
    },
    {
      "cell_type": "code",
      "metadata": {
        "id": "vGMWKcohP11I"
      },
      "source": [
        "train"
      ],
      "execution_count": null,
      "outputs": []
    },
    {
      "cell_type": "code",
      "metadata": {
        "id": "0P9YKVY9iQ-H"
      },
      "source": [
        "x1 = [6.5,10.7]\n",
        "y = [np.nan,np.nan]\n",
        "test = pd.DataFrame(list(zip(x1, y)), columns =['X1', 'Y']) \n",
        "test_x, test_y = test[['X1']], test['Y']"
      ],
      "execution_count": null,
      "outputs": []
    },
    {
      "cell_type": "code",
      "metadata": {
        "id": "RtOU85sxioE7"
      },
      "source": [
        "from sklearn.neighbors import KNeighborsRegressor\n",
        "regressor = KNeighborsRegressor(n_neighbors=2)\n",
        "regressor.fit(train_x, train_y)"
      ],
      "execution_count": null,
      "outputs": []
    },
    {
      "cell_type": "code",
      "metadata": {
        "id": "NUOCKT1iirwg"
      },
      "source": [
        "test_y = regressor.predict(test_x)\n",
        "test = pd.DataFrame(list(zip(x1, test_y)), columns =['X1', 'X2'])\n",
        "test"
      ],
      "execution_count": null,
      "outputs": []
    },
    {
      "cell_type": "markdown",
      "metadata": {
        "id": "X7vEBeDmlHCw"
      },
      "source": [
        "K Nearest Neighbor Interpolation"
      ]
    },
    {
      "cell_type": "code",
      "metadata": {
        "id": "d9zBPLxYlM9J"
      },
      "source": [
        "x = [1.0, 2.2, 3.2, 4.3, 5.4]\n",
        "y = [23.0, 17.0, 12.0, 27.0, 8.0]\n",
        "data_r = pd.DataFrame(list(zip(x, y)), columns = ['X','Y'])\n",
        "\n",
        "start, stop, delta = 0, 6.0, 0.1\n",
        "r = np.arange(start, stop, delta)\n",
        "r = r.round(decimals = 1)\n",
        "data_l = pd.DataFrame(r, columns = ['X'])\n",
        "\n",
        "data = pd.merge(data_l, data_r, on='X', how='left')\n",
        "data"
      ],
      "execution_count": null,
      "outputs": []
    },
    {
      "cell_type": "code",
      "metadata": {
        "id": "gXp9Zpa01KLD"
      },
      "source": [
        "def interpolation(df, target, model):\n",
        "  train   = df[df[target].notnull()]\n",
        "  train_x = train.drop(columns = target)\n",
        "  train_y = train[[target]]\n",
        "  model.fit(train_x, train_y)\n",
        "\n",
        "  test   = df[df[target].isnull()]\n",
        "  test_x = test.drop(columns = target)\n",
        "  test_y = model.predict(test_x)\n",
        "  test_x[target] = test_y\n",
        "\n",
        "  result = pd.concat([train, test_x], axis=0).sort_index()\n",
        "  result['O'] = df[target]\n",
        "  result['M'] = np.where(result['O'].isnull(), 'V', 'I')\n",
        "  return result"
      ],
      "execution_count": null,
      "outputs": []
    },
    {
      "cell_type": "code",
      "metadata": {
        "id": "L4lGjXufjze_"
      },
      "source": [
        "from sklearn.neighbors import KNeighborsRegressor\n",
        "regressor = KNeighborsRegressor(n_neighbors = 1)\n",
        "\n",
        "idata = interpolation(df = data, target = 'Y', model = regressor)\n",
        "idata"
      ],
      "execution_count": null,
      "outputs": []
    },
    {
      "cell_type": "code",
      "metadata": {
        "id": "Ux1SetD_q_bf"
      },
      "source": [
        "import seaborn as sns\n",
        "import matplotlib.pyplot as plt\n",
        "\n",
        "sns.set()\n",
        "plt.figure(num=None, figsize=(10, 6), dpi=80, facecolor='w', edgecolor='k')\n",
        "\n",
        "sns.barplot(x = \"X\", y = \"Y\", hue =\"M\", data = idata);\n",
        "\n",
        "plt.xticks(rotation=90)\n",
        "plt.show()"
      ],
      "execution_count": null,
      "outputs": []
    },
    {
      "cell_type": "code",
      "metadata": {
        "id": "PH2Gwd9h7TOA"
      },
      "source": [
        "from scipy.spatial.distance import pdist, squareform"
      ],
      "execution_count": null,
      "outputs": []
    }
  ]
}